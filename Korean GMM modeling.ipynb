{
 "cells": [
  {
   "cell_type": "markdown",
   "id": "875d4cfc",
   "metadata": {},
   "source": [
    "# Importing necassary libraries"
   ]
  },
  {
   "cell_type": "code",
   "execution_count": 1,
   "id": "0967e058",
   "metadata": {},
   "outputs": [],
   "source": [
    "import numpy as np\n",
    "import scipy.io\n",
    "from python_speech_features import mfcc\n",
    "import matplotlib.pyplot as plt\n",
    "import IPython.display as ipd\n",
    "import os\n",
    "from sklearn.model_selection import train_test_split\n",
    "from sklearn.utils import shuffle\n",
    "import soundfile as sf\n",
    "import random\n",
    "from sklearn.mixture import GaussianMixture\n",
    "from sklearn.preprocessing import StandardScaler\n",
    "import joblib\n",
    "import math\n",
    "import statistics\n",
    "\n",
    "\n"
   ]
  },
  {
   "cell_type": "markdown",
   "id": "c4696cd8",
   "metadata": {},
   "source": [
    "# Defining the function that reads the audios from a given path using soundfile and returns 4 lists : audios, freqs, filepaths and problematic files for potential debugging"
   ]
  },
  {
   "cell_type": "code",
   "execution_count": 2,
   "id": "3b439b37",
   "metadata": {},
   "outputs": [],
   "source": [
    "\n",
    "def read_audios(directory):\n",
    "    audios = []\n",
    "    freqs = []\n",
    "    filepaths = []\n",
    "    problematic_files = []\n",
    "    \n",
    "    # Walking through the directory that contains the dataset and reading each file that has the .wav extension\n",
    "    for root, dirs, files in os.walk(directory):\n",
    "        for file in files:\n",
    "            if file.endswith('.wav'):\n",
    "                filepath = os.path.join(root, file)\n",
    "                filepaths.append(filepath)\n",
    "                try:\n",
    "                    # Read the audio file using soundfile\n",
    "                    data, freq = sf.read(filepath)\n",
    "                    audios.append(data)\n",
    "                    freqs.append(freq)\n",
    "                except Exception as e:\n",
    "                    print(f\"Encountered an error with file: {filepath}. Error: {e}\")\n",
    "                    problematic_files.append(filepath)\n",
    "    \n",
    "    return audios, freqs, filepaths, problematic_files\n",
    "\n",
    "# Example usage\n",
    "audios, freqs, filepaths, problematic_files = read_audios(r'Korean_wav')\n"
   ]
  },
  {
   "cell_type": "markdown",
   "id": "98b86862",
   "metadata": {},
   "source": [
    "# Defining the function that extracts the mfcc features then removes the frames of silence finally it saves the mffc features into a .txt file according to gender "
   ]
  },
  {
   "cell_type": "code",
   "execution_count": 3,
   "id": "bb308ced",
   "metadata": {},
   "outputs": [],
   "source": [
    "def extractMfccs_RemoveSilence_saveMfccs(audios,freqs,filepaths, directory):\n",
    "    mfccs = []\n",
    " \n",
    "    for audio, freq, filepath in zip(audios, freqs,filepaths):\n",
    "        # extract the MFCC features\n",
    "        mfcc_features = mfcc(audio, freq, winlen=0.025, winstep=0.01, numcep=13, nfilt=26, nfft= 2048, lowfreq=0,\n",
    "                         highfreq=None, preemph=0.97, ceplifter=22, appendEnergy=False)\n",
    "        \n",
    "        # calculate the energy\n",
    "        energy = np.sum(mfcc_features**2, axis=1)\n",
    "        # calculate the threshold for silence\n",
    "        threshold = np.mean(energy) * 0.4\n",
    "        #removing silence frames from mfccs\n",
    "        voiced_indices = np.where(energy > threshold)[0]\n",
    "        mfccs_voiced = mfcc_features[voiced_indices,:]\n",
    "        mfccs.append(mfccs_voiced)\n",
    "        \n",
    "        # print the shape of the MFCCs before and after removing silence\n",
    "        print(f\"MFCCs before removing silence: {mfcc_features.shape}\")\n",
    "        print(f\"MFCCs after removing silence: {mfccs_voiced.shape}\")\n",
    "        \n",
    "       #saving mffcs \n",
    "       # extract the gender information from the file name\n",
    "        gender = None\n",
    "        if 'hommes' in filepath:\n",
    "            gender = 'Hommes'\n",
    "        elif 'femmes' in filepath:\n",
    "            gender = 'Femmes'\n",
    "\n",
    "        # save the MFCCs to the appropriate directory based on gender\n",
    "        if gender is not None:\n",
    "            gender_dir = os.path.join(directory, gender)\n",
    "            if not os.path.exists(gender_dir):\n",
    "                os.makedirs(gender_dir)\n",
    "            mfcc_file = os.path.join(gender_dir,  os.path.splitext(os.path.basename(filepath))[0] + \".mfcc\")\n",
    "            np.savetxt(mfcc_file, mfccs_voiced, delimiter=',')\n",
    "            \n",
    "      \n",
    "    \n",
    "    return  mfccs"
   ]
  },
  {
   "cell_type": "markdown",
   "id": "5e389de8",
   "metadata": {},
   "source": [
    "# Defining the function that splits the extraced mfccs into training and testing sets : 2/3 from male directory for training and 2/3 from female "
   ]
  },
  {
   "cell_type": "code",
   "execution_count": 4,
   "id": "bf8259ff",
   "metadata": {},
   "outputs": [],
   "source": [
    "def train_test_split(mfcc_dir):\n",
    "    # create separate lists for male and female file paths\n",
    "    male_files = []\n",
    "    female_files = []\n",
    "    for root, dirs, files in os.walk(mfcc_dir):\n",
    "        for file in files:\n",
    "            if file.endswith('.mfcc'):\n",
    "                if 'Hommes' in root:\n",
    "                    male_files.append(os.path.join(root, file))\n",
    "                elif 'Femmes' in root:\n",
    "                    female_files.append(os.path.join(root, file))\n",
    "\n",
    "    # shuffle the male and female lists independently\n",
    "    random.shuffle(male_files)\n",
    "    random.shuffle(female_files)\n",
    "\n",
    "    # split the male and female lists into train and test based on the desired ratio\n",
    "    male_train = male_files[:int(2/3*len(male_files))]\n",
    "    male_test = male_files[int(2/3*len(male_files)):]\n",
    "\n",
    "    female_train = female_files[:int(2/3*len(female_files))]\n",
    "    female_test = female_files[int(2/3*len(female_files)):]\n",
    "\n",
    "    \n",
    "    \n",
    "    # merge the train and test lists for both male and female\n",
    "    train_files = male_train + female_train\n",
    "    test_files = male_test + female_test\n",
    "\n",
    "    # load the MFCC features from the saved files for the train and test sets\n",
    "    train_mfccs = []\n",
    "    test_mfccs = []\n",
    "\n",
    "    for file in train_files:\n",
    "        train_mfccs.append(np.loadtxt(file, delimiter=','))\n",
    "\n",
    "    for file in test_files:\n",
    "        test_mfccs.append(np.loadtxt(file, delimiter=','))\n",
    "\n",
    "    # print the shapes of the train and test MFCC feature arrays\n",
    "    print(f\"Train male MFCCs shape: {np.array(male_train).shape}\")\n",
    "    print(f\"Test male MFCCs shape: {np.array( male_test).shape}\")\n",
    "    print(f\"Train female MFCCs shape: {np.array(female_train).shape}\")\n",
    "    print(f\"Test female MFCCs shape: {np.array( female_test).shape}\")\n",
    "    print(f\"Train MFCCs shape: {np.array(train_mfccs).shape}\")\n",
    "    print(f\"Test MFCCs shape: {np.array(test_mfccs).shape}\")\n",
    "    \n",
    "    return train_mfccs, test_mfccs\n"
   ]
  },
  {
   "cell_type": "markdown",
   "id": "27d92499",
   "metadata": {},
   "source": [
    "# Defining the functions that train the different GMM models and than save them as a pkl file"
   ]
  },
  {
   "cell_type": "code",
   "execution_count": 5,
   "id": "b8bd0e12",
   "metadata": {},
   "outputs": [],
   "source": [
    "def gmm16(train_mfccs):\n",
    "    # Initialize the GMM model with 16 classes\n",
    "    gmm = GaussianMixture(n_components=16, covariance_type='diag', random_state=0)\n",
    "\n",
    "    # Fit the GMM model to the training data\n",
    "    gmm.fit(train_mfccs)\n",
    "    \n",
    "    # Save the trained GMM model to a file\n",
    "    joblib.dump(gmm, r'gmm_model16_korean.pkl')\n",
    "\n",
    "    return gmm\n"
   ]
  },
  {
   "cell_type": "code",
   "execution_count": 6,
   "id": "dacbf32b",
   "metadata": {},
   "outputs": [],
   "source": [
    "def gmm32(train_mfccs):\n",
    "    # Initialize the GMM model with 32 classes\n",
    "    gmm = GaussianMixture(n_components=32, covariance_type='diag', random_state=0)\n",
    "\n",
    "    # Fit the GMM model to the training data\n",
    "    gmm.fit(train_mfccs)\n",
    "    \n",
    "    # Save the trained GMM model to a file\n",
    "    joblib.dump(gmm, r'gmm_model32_korean.pkl')\n",
    "\n",
    "    return gmm"
   ]
  },
  {
   "cell_type": "code",
   "execution_count": 7,
   "id": "28b6eb22",
   "metadata": {},
   "outputs": [],
   "source": [
    "def gmm64(train_mfccs):\n",
    "    # Initialize the GMM model with 64 classes\n",
    "    gmm = GaussianMixture(n_components=64, covariance_type='diag', random_state=0)\n",
    "\n",
    "    # Fit the GMM model to the training data\n",
    "    gmm.fit(train_mfccs)\n",
    "    \n",
    "    # Save the trained GMM model to a file\n",
    "    joblib.dump(gmm, r'gmm_model64_korean.pkl')\n",
    "\n",
    "    return gmm"
   ]
  },
  {
   "cell_type": "code",
   "execution_count": 8,
   "id": "a0bc521f",
   "metadata": {},
   "outputs": [],
   "source": [
    "def gmm128(train_mfccs):\n",
    "    # Initialize the GMM model with 128 classes\n",
    "    gmm = GaussianMixture(n_components=128, covariance_type='diag', random_state=0)\n",
    "\n",
    "    # Fit the GMM model to the training data\n",
    "    gmm.fit(train_mfccs)\n",
    "    \n",
    "    # Save the trained GMM model to a file\n",
    "    joblib.dump(gmm, r'gmm_model128_korean.pkl')\n",
    "\n",
    "    return gmm"
   ]
  },
  {
   "cell_type": "code",
   "execution_count": 9,
   "id": "612098fc",
   "metadata": {},
   "outputs": [],
   "source": [
    "def gmm256(train_mfccs):\n",
    "    # Initialize the GMM model with 254 classes\n",
    "    gmm = GaussianMixture(n_components=256, covariance_type='diag', random_state=0)\n",
    "\n",
    "    # Fit the GMM model to the training data\n",
    "    gmm.fit(train_mfccs)\n",
    "    \n",
    "    # Save the trained GMM model to a file\n",
    "    joblib.dump(gmm, r'gmm_model256_korean.pkl')\n",
    "\n",
    "    return gmm"
   ]
  },
  {
   "cell_type": "markdown",
   "id": "9e3054ab",
   "metadata": {},
   "source": [
    "# Getting the audios frequencies and filepaths from their directory using the function defined above"
   ]
  },
  {
   "cell_type": "code",
   "execution_count": 10,
   "id": "691321ce",
   "metadata": {},
   "outputs": [],
   "source": [
    "audios, freqs, filepaths, problematic_files = read_audios(r'Korean_wav')\n"
   ]
  },
  {
   "cell_type": "markdown",
   "id": "a10c8287",
   "metadata": {},
   "source": [
    "# Extracting the mfcc features - Removing silence and saving the mfccs"
   ]
  },
  {
   "cell_type": "code",
   "execution_count": 11,
   "id": "1cb16fef",
   "metadata": {
    "scrolled": true
   },
   "outputs": [
    {
     "name": "stdout",
     "output_type": "stream",
     "text": [
      "MFCCs before removing silence: (271, 13)\n",
      "MFCCs after removing silence: (271, 13)\n",
      "MFCCs before removing silence: (286, 13)\n",
      "MFCCs after removing silence: (286, 13)\n",
      "MFCCs before removing silence: (482, 13)\n",
      "MFCCs after removing silence: (482, 13)\n",
      "MFCCs before removing silence: (235, 13)\n",
      "MFCCs after removing silence: (235, 13)\n",
      "MFCCs before removing silence: (361, 13)\n",
      "MFCCs after removing silence: (361, 13)\n",
      "MFCCs before removing silence: (361, 13)\n",
      "MFCCs after removing silence: (361, 13)\n",
      "MFCCs before removing silence: (338, 13)\n",
      "MFCCs after removing silence: (338, 13)\n",
      "MFCCs before removing silence: (496, 13)\n",
      "MFCCs after removing silence: (496, 13)\n",
      "MFCCs before removing silence: (614, 13)\n",
      "MFCCs after removing silence: (614, 13)\n",
      "MFCCs before removing silence: (675, 13)\n",
      "MFCCs after removing silence: (675, 13)\n",
      "MFCCs before removing silence: (519, 13)\n",
      "MFCCs after removing silence: (519, 13)\n",
      "MFCCs before removing silence: (629, 13)\n",
      "MFCCs after removing silence: (629, 13)\n",
      "MFCCs before removing silence: (218, 13)\n",
      "MFCCs after removing silence: (218, 13)\n",
      "MFCCs before removing silence: (498, 13)\n",
      "MFCCs after removing silence: (498, 13)\n",
      "MFCCs before removing silence: (444, 13)\n",
      "MFCCs after removing silence: (444, 13)\n",
      "MFCCs before removing silence: (199747, 13)\n",
      "MFCCs after removing silence: (199660, 13)\n",
      "MFCCs before removing silence: (275, 13)\n",
      "MFCCs after removing silence: (275, 13)\n",
      "MFCCs before removing silence: (214, 13)\n",
      "MFCCs after removing silence: (214, 13)\n",
      "MFCCs before removing silence: (439, 13)\n",
      "MFCCs after removing silence: (439, 13)\n",
      "MFCCs before removing silence: (410, 13)\n",
      "MFCCs after removing silence: (410, 13)\n",
      "MFCCs before removing silence: (653, 13)\n",
      "MFCCs after removing silence: (653, 13)\n",
      "MFCCs before removing silence: (650, 13)\n",
      "MFCCs after removing silence: (650, 13)\n",
      "MFCCs before removing silence: (536, 13)\n",
      "MFCCs after removing silence: (536, 13)\n",
      "MFCCs before removing silence: (612, 13)\n",
      "MFCCs after removing silence: (612, 13)\n",
      "MFCCs before removing silence: (269, 13)\n",
      "MFCCs after removing silence: (269, 13)\n",
      "MFCCs before removing silence: (478, 13)\n",
      "MFCCs after removing silence: (478, 13)\n",
      "MFCCs before removing silence: (392, 13)\n",
      "MFCCs after removing silence: (392, 13)\n",
      "MFCCs before removing silence: (588, 13)\n",
      "MFCCs after removing silence: (588, 13)\n",
      "MFCCs before removing silence: (1265, 13)\n",
      "MFCCs after removing silence: (1265, 13)\n",
      "MFCCs before removing silence: (711, 13)\n",
      "MFCCs after removing silence: (711, 13)\n",
      "MFCCs before removing silence: (571, 13)\n",
      "MFCCs after removing silence: (571, 13)\n",
      "MFCCs before removing silence: (1097, 13)\n",
      "MFCCs after removing silence: (1097, 13)\n",
      "MFCCs before removing silence: (698, 13)\n",
      "MFCCs after removing silence: (698, 13)\n",
      "MFCCs before removing silence: (745, 13)\n",
      "MFCCs after removing silence: (745, 13)\n",
      "MFCCs before removing silence: (602, 13)\n",
      "MFCCs after removing silence: (602, 13)\n",
      "MFCCs before removing silence: (567, 13)\n",
      "MFCCs after removing silence: (567, 13)\n",
      "MFCCs before removing silence: (525, 13)\n",
      "MFCCs after removing silence: (525, 13)\n",
      "MFCCs before removing silence: (269, 13)\n",
      "MFCCs after removing silence: (269, 13)\n",
      "MFCCs before removing silence: (517, 13)\n",
      "MFCCs after removing silence: (517, 13)\n",
      "MFCCs before removing silence: (393, 13)\n",
      "MFCCs after removing silence: (393, 13)\n",
      "MFCCs before removing silence: (345, 13)\n",
      "MFCCs after removing silence: (345, 13)\n",
      "MFCCs before removing silence: (501, 13)\n",
      "MFCCs after removing silence: (501, 13)\n",
      "MFCCs before removing silence: (125, 13)\n",
      "MFCCs after removing silence: (125, 13)\n",
      "MFCCs before removing silence: (831, 13)\n",
      "MFCCs after removing silence: (831, 13)\n",
      "MFCCs before removing silence: (469, 13)\n",
      "MFCCs after removing silence: (469, 13)\n",
      "MFCCs before removing silence: (709, 13)\n",
      "MFCCs after removing silence: (709, 13)\n",
      "MFCCs before removing silence: (176, 13)\n",
      "MFCCs after removing silence: (176, 13)\n",
      "MFCCs before removing silence: (399, 13)\n",
      "MFCCs after removing silence: (399, 13)\n",
      "MFCCs before removing silence: (526, 13)\n",
      "MFCCs after removing silence: (526, 13)\n",
      "MFCCs before removing silence: (508, 13)\n",
      "MFCCs after removing silence: (508, 13)\n",
      "MFCCs before removing silence: (457, 13)\n",
      "MFCCs after removing silence: (457, 13)\n",
      "MFCCs before removing silence: (538, 13)\n",
      "MFCCs after removing silence: (538, 13)\n",
      "MFCCs before removing silence: (640, 13)\n",
      "MFCCs after removing silence: (640, 13)\n",
      "MFCCs before removing silence: (878, 13)\n",
      "MFCCs after removing silence: (878, 13)\n",
      "MFCCs before removing silence: (519, 13)\n",
      "MFCCs after removing silence: (519, 13)\n",
      "MFCCs before removing silence: (780, 13)\n",
      "MFCCs after removing silence: (780, 13)\n",
      "MFCCs before removing silence: (456, 13)\n",
      "MFCCs after removing silence: (456, 13)\n",
      "MFCCs before removing silence: (500, 13)\n",
      "MFCCs after removing silence: (500, 13)\n",
      "MFCCs before removing silence: (317, 13)\n",
      "MFCCs after removing silence: (317, 13)\n",
      "MFCCs before removing silence: (645, 13)\n",
      "MFCCs after removing silence: (645, 13)\n",
      "MFCCs before removing silence: (830, 13)\n",
      "MFCCs after removing silence: (830, 13)\n",
      "MFCCs before removing silence: (281, 13)\n",
      "MFCCs after removing silence: (281, 13)\n",
      "MFCCs before removing silence: (711, 13)\n",
      "MFCCs after removing silence: (711, 13)\n",
      "MFCCs before removing silence: (253, 13)\n",
      "MFCCs after removing silence: (253, 13)\n",
      "MFCCs before removing silence: (1022, 13)\n",
      "MFCCs after removing silence: (1022, 13)\n",
      "MFCCs before removing silence: (622, 13)\n",
      "MFCCs after removing silence: (622, 13)\n",
      "MFCCs before removing silence: (555, 13)\n",
      "MFCCs after removing silence: (555, 13)\n",
      "MFCCs before removing silence: (1108, 13)\n",
      "MFCCs after removing silence: (1108, 13)\n",
      "MFCCs before removing silence: (877, 13)\n",
      "MFCCs after removing silence: (877, 13)\n",
      "MFCCs before removing silence: (1144, 13)\n",
      "MFCCs after removing silence: (1144, 13)\n",
      "MFCCs before removing silence: (1338, 13)\n",
      "MFCCs after removing silence: (1338, 13)\n",
      "MFCCs before removing silence: (660, 13)\n",
      "MFCCs after removing silence: (660, 13)\n",
      "MFCCs before removing silence: (604, 13)\n",
      "MFCCs after removing silence: (604, 13)\n",
      "MFCCs before removing silence: (748, 13)\n",
      "MFCCs after removing silence: (748, 13)\n",
      "MFCCs before removing silence: (1161, 13)\n",
      "MFCCs after removing silence: (1161, 13)\n",
      "MFCCs before removing silence: (915, 13)\n",
      "MFCCs after removing silence: (915, 13)\n",
      "MFCCs before removing silence: (47458, 13)\n",
      "MFCCs after removing silence: (47428, 13)\n",
      "MFCCs before removing silence: (86490, 13)\n",
      "MFCCs after removing silence: (86363, 13)\n",
      "MFCCs before removing silence: (89176, 13)\n",
      "MFCCs after removing silence: (66376, 13)\n",
      "MFCCs before removing silence: (66679, 13)\n",
      "MFCCs after removing silence: (66575, 13)\n",
      "MFCCs before removing silence: (19795, 13)\n",
      "MFCCs after removing silence: (19751, 13)\n",
      "MFCCs before removing silence: (133527, 13)\n",
      "MFCCs after removing silence: (133210, 13)\n",
      "MFCCs before removing silence: (100105, 13)\n",
      "MFCCs after removing silence: (100082, 13)\n",
      "MFCCs before removing silence: (14570, 13)\n",
      "MFCCs after removing silence: (14403, 13)\n",
      "MFCCs before removing silence: (14617, 13)\n",
      "MFCCs after removing silence: (14424, 13)\n",
      "MFCCs before removing silence: (14617, 13)\n",
      "MFCCs after removing silence: (14424, 13)\n",
      "MFCCs before removing silence: (17909, 13)\n",
      "MFCCs after removing silence: (17897, 13)\n",
      "MFCCs before removing silence: (111646, 13)\n",
      "MFCCs after removing silence: (111591, 13)\n",
      "MFCCs before removing silence: (14779, 13)\n",
      "MFCCs after removing silence: (14735, 13)\n",
      "MFCCs before removing silence: (69385, 13)\n",
      "MFCCs after removing silence: (69270, 13)\n",
      "MFCCs before removing silence: (21210, 13)\n",
      "MFCCs after removing silence: (21210, 13)\n",
      "MFCCs before removing silence: (20944, 13)\n",
      "MFCCs after removing silence: (20943, 13)\n",
      "MFCCs before removing silence: (26007, 13)\n",
      "MFCCs after removing silence: (25996, 13)\n",
      "MFCCs before removing silence: (34455, 13)\n",
      "MFCCs after removing silence: (34448, 13)\n",
      "MFCCs before removing silence: (92629, 13)\n",
      "MFCCs after removing silence: (89870, 13)\n",
      "MFCCs before removing silence: (43953, 13)\n",
      "MFCCs after removing silence: (34616, 13)\n",
      "MFCCs before removing silence: (45750, 13)\n",
      "MFCCs after removing silence: (43910, 13)\n",
      "MFCCs before removing silence: (159644, 13)\n",
      "MFCCs after removing silence: (158219, 13)\n",
      "MFCCs before removing silence: (100403, 13)\n",
      "MFCCs after removing silence: (99714, 13)\n"
     ]
    }
   ],
   "source": [
    "mfccs = extractMfccs_RemoveSilence_saveMfccs(audios, freqs, filepaths,r'mfcc_korean')"
   ]
  },
  {
   "cell_type": "markdown",
   "id": "8699558f",
   "metadata": {},
   "source": [
    "## -----> We can see here that the size of the mfcc features has decreased after removing the frames ot silence"
   ]
  },
  {
   "cell_type": "markdown",
   "id": "f653af91",
   "metadata": {},
   "source": [
    "# Splitting into test and train sets according to gender"
   ]
  },
  {
   "cell_type": "code",
   "execution_count": 12,
   "id": "88efb508",
   "metadata": {
    "scrolled": true
   },
   "outputs": [
    {
     "name": "stdout",
     "output_type": "stream",
     "text": [
      "Train male MFCCs shape: (12,)\n",
      "Test male MFCCs shape: (7,)\n",
      "Train female MFCCs shape: (53,)\n",
      "Test female MFCCs shape: (27,)\n",
      "Train MFCCs shape: (65,)\n",
      "Test MFCCs shape: (34,)\n"
     ]
    },
    {
     "name": "stderr",
     "output_type": "stream",
     "text": [
      "C:\\Users\\HP\\AppData\\Local\\Temp\\ipykernel_16180\\3397580047.py:45: VisibleDeprecationWarning: Creating an ndarray from ragged nested sequences (which is a list-or-tuple of lists-or-tuples-or ndarrays with different lengths or shapes) is deprecated. If you meant to do this, you must specify 'dtype=object' when creating the ndarray.\n",
      "  print(f\"Train MFCCs shape: {np.array(train_mfccs).shape}\")\n",
      "C:\\Users\\HP\\AppData\\Local\\Temp\\ipykernel_16180\\3397580047.py:46: VisibleDeprecationWarning: Creating an ndarray from ragged nested sequences (which is a list-or-tuple of lists-or-tuples-or ndarrays with different lengths or shapes) is deprecated. If you meant to do this, you must specify 'dtype=object' when creating the ndarray.\n",
      "  print(f\"Test MFCCs shape: {np.array(test_mfccs).shape}\")\n"
     ]
    }
   ],
   "source": [
    "train_mfccs, test_mfccs = train_test_split(r'mfcc_korean')"
   ]
  },
  {
   "cell_type": "markdown",
   "id": "45dc7d97",
   "metadata": {},
   "source": [
    "# Stacking vertically the train and test MFCC features so that we can fit the gmm models"
   ]
  },
  {
   "cell_type": "code",
   "execution_count": 13,
   "id": "c1453682",
   "metadata": {},
   "outputs": [],
   "source": [
    "#stack vertically the train MFCC features \n",
    "mfcc_train = []\n",
    "for train_mfcc in train_mfccs:\n",
    "    mfcc_train.append(train_mfcc)\n",
    "mfcc_train = np.concatenate(mfcc_train, axis=0)\n",
    "\n",
    "#stack vertically the test MFCC features \n",
    "mfcc_test = []\n",
    "for test_mfcc in test_mfccs:\n",
    "    mfcc_test.append(test_mfcc)\n",
    "mfcc_test = np.concatenate(mfcc_test, axis=0)\n"
   ]
  },
  {
   "cell_type": "markdown",
   "id": "20a5ad86",
   "metadata": {},
   "source": [
    "# Saving the test set into a txt file "
   ]
  },
  {
   "cell_type": "code",
   "execution_count": 14,
   "id": "c8254a5c",
   "metadata": {},
   "outputs": [],
   "source": [
    "#Save the test mfccs in a file\n",
    "test_mfccs = np.vstack(test_mfccs)\n",
    "test_mfccs = np.array(test_mfccs, dtype=float)\n",
    "np.savetxt(r'koreanTest', test_mfccs, delimiter=',')\n",
    "\n"
   ]
  },
  {
   "cell_type": "code",
   "execution_count": 15,
   "id": "7274389a",
   "metadata": {},
   "outputs": [
    {
     "data": {
      "text/plain": [
       "(1065435, 13)"
      ]
     },
     "execution_count": 15,
     "metadata": {},
     "output_type": "execute_result"
    }
   ],
   "source": [
    "mfcc_train.shape"
   ]
  },
  {
   "cell_type": "markdown",
   "id": "fdc952bc",
   "metadata": {},
   "source": [
    "# Training the different Gmm Models "
   ]
  },
  {
   "cell_type": "code",
   "execution_count": 16,
   "id": "d7f1788a",
   "metadata": {},
   "outputs": [],
   "source": [
    "gmm16 = gmm16(mfcc_train)"
   ]
  },
  {
   "cell_type": "code",
   "execution_count": 17,
   "id": "caf46091",
   "metadata": {},
   "outputs": [],
   "source": [
    "gmm32 = gmm32(mfcc_train)"
   ]
  },
  {
   "cell_type": "code",
   "execution_count": 18,
   "id": "7f95e8c5",
   "metadata": {},
   "outputs": [],
   "source": [
    "gmm64 = gmm64(mfcc_train)"
   ]
  },
  {
   "cell_type": "code",
   "execution_count": 19,
   "id": "60fcf0ca",
   "metadata": {},
   "outputs": [],
   "source": [
    "gmm128= gmm128(mfcc_train)"
   ]
  },
  {
   "cell_type": "code",
   "execution_count": 20,
   "id": "70009491",
   "metadata": {
    "scrolled": true
   },
   "outputs": [],
   "source": [
    "gmm256= gmm256(mfcc_train)"
   ]
  },
  {
   "cell_type": "markdown",
   "id": "daeee76f",
   "metadata": {},
   "source": [
    "# Evaluate the performance of each GMM model on the test set using the score_samples() function that returns an array containing the log-likelihood of each frame of the mfcc features"
   ]
  },
  {
   "cell_type": "code",
   "execution_count": 21,
   "id": "20be0c83",
   "metadata": {
    "scrolled": true
   },
   "outputs": [
    {
     "name": "stdout",
     "output_type": "stream",
     "text": [
      "GMM16 score: [ 75.4491708   75.4491708   75.4491708  ... -47.65319861 -49.35821021\n",
      " -49.74218457]\n",
      "GMM32 score: [ 75.44917444  75.44917444  75.44917444 ... -48.47022321 -49.42331443\n",
      " -48.91667073]\n",
      "GMM64 score: [ 75.44917444  75.44917444  75.44917444 ... -45.70186783 -47.26619218\n",
      " -46.46885319]\n",
      "GMM128 score: [ 75.44917444  75.44917444  75.44917444 ... -44.44387794 -46.75666076\n",
      " -45.35442242]\n",
      "GMM256 score: [ 75.44917444  75.44917444  75.44917444 ... -38.70664789 -41.97553079\n",
      " -39.10445164]\n"
     ]
    }
   ],
   "source": [
    "scores = []\n",
    "for model in [gmm16, gmm32, gmm64, gmm128, gmm256]:\n",
    "    score = model.score_samples(mfcc_test)\n",
    "    scores.append(score)\n",
    "\n",
    "# Print the scores\n",
    "print('GMM16 score:', scores[0])\n",
    "print('GMM32 score:', scores[1])\n",
    "print('GMM64 score:', scores[2])\n",
    "print('GMM128 score:', scores[3])\n",
    "print('GMM256 score:', scores[4])\n",
    "\n"
   ]
  },
  {
   "cell_type": "markdown",
   "id": "a09676ec",
   "metadata": {},
   "source": [
    "# Comparing the size of our mfcc_test set with the size of the scores array "
   ]
  },
  {
   "cell_type": "code",
   "execution_count": 22,
   "id": "b025b0c7",
   "metadata": {},
   "outputs": [
    {
     "data": {
      "text/plain": [
       "(482731, 13)"
      ]
     },
     "execution_count": 22,
     "metadata": {},
     "output_type": "execute_result"
    }
   ],
   "source": [
    "mfcc_test.shape"
   ]
  },
  {
   "cell_type": "markdown",
   "id": "51d092f6",
   "metadata": {},
   "source": [
    "# Indeed the size of the scores array is the same "
   ]
  },
  {
   "cell_type": "code",
   "execution_count": 23,
   "id": "811ecc16",
   "metadata": {},
   "outputs": [
    {
     "data": {
      "text/plain": [
       "(482731,)"
      ]
     },
     "execution_count": 23,
     "metadata": {},
     "output_type": "execute_result"
    }
   ],
   "source": [
    " scores[0].shape"
   ]
  },
  {
   "cell_type": "markdown",
   "id": "85f1168d",
   "metadata": {},
   "source": [
    "# In order to compare between the different GMM Models we need to calculate the score for the hole test set and we can do that by calculating the mean of the individual scores"
   ]
  },
  {
   "cell_type": "code",
   "execution_count": 24,
   "id": "e268debc",
   "metadata": {},
   "outputs": [
    {
     "name": "stdout",
     "output_type": "stream",
     "text": [
      "GMM16 score: -51.153502245375726\n",
      "GMM32 score: -50.7364646743951\n",
      "GMM64 score: -50.07013624010374\n",
      "GMM128 score: -50.00476494098707\n",
      "GMM256 score: -49.74661403157131\n"
     ]
    }
   ],
   "source": [
    "#calculationg the score of the hole test set\n",
    "print('GMM16 score:', scores[0].mean())\n",
    "print('GMM32 score:', scores[1].mean())\n",
    "print('GMM64 score:', scores[2].mean())\n",
    "print('GMM128 score:', scores[3].mean())\n",
    "print('GMM256 score:', scores[4].mean())\n"
   ]
  },
  {
   "cell_type": "markdown",
   "id": "81475f1a",
   "metadata": {},
   "source": [
    "### From the results above we can see that the best score (the closest one to 0) is given by the model using 16 gaussians "
   ]
  },
  {
   "cell_type": "code",
   "execution_count": null,
   "id": "e54295f7",
   "metadata": {},
   "outputs": [],
   "source": []
  }
 ],
 "metadata": {
  "kernelspec": {
   "display_name": "Python 3 (ipykernel)",
   "language": "python",
   "name": "python3"
  },
  "language_info": {
   "codemirror_mode": {
    "name": "ipython",
    "version": 3
   },
   "file_extension": ".py",
   "mimetype": "text/x-python",
   "name": "python",
   "nbconvert_exporter": "python",
   "pygments_lexer": "ipython3",
   "version": "3.9.18"
  }
 },
 "nbformat": 4,
 "nbformat_minor": 5
}
