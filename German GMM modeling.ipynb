{
 "cells": [
  {
   "cell_type": "markdown",
   "id": "875d4cfc",
   "metadata": {},
   "source": [
    "# Importing necassary libraries"
   ]
  },
  {
   "cell_type": "code",
   "execution_count": 1,
   "id": "0967e058",
   "metadata": {},
   "outputs": [],
   "source": [
    "import numpy as np\n",
    "import scipy.io\n",
    "from python_speech_features import mfcc\n",
    "import matplotlib.pyplot as plt\n",
    "import IPython.display as ipd\n",
    "import os\n",
    "from sklearn.model_selection import train_test_split\n",
    "from sklearn.utils import shuffle\n",
    "import soundfile as sf\n",
    "import random\n",
    "from sklearn.mixture import GaussianMixture\n",
    "from sklearn.preprocessing import StandardScaler\n",
    "import joblib\n",
    "import math\n",
    "import statistics\n",
    "\n",
    "\n"
   ]
  },
  {
   "cell_type": "markdown",
   "id": "c4696cd8",
   "metadata": {},
   "source": [
    "# Defining the function that reads the audios from a given path using soundfile and returns 4 lists : audios, freqs, filepaths and problematic files for potential debugging"
   ]
  },
  {
   "cell_type": "code",
   "execution_count": 2,
   "id": "3b439b37",
   "metadata": {},
   "outputs": [],
   "source": [
    "\n",
    "def read_audios(directory):\n",
    "    audios = []\n",
    "    freqs = []\n",
    "    filepaths = []\n",
    "    problematic_files = []\n",
    "    \n",
    "    # Walking through the directory that contains the dataset and reading each file that has the .wav extension\n",
    "    for root, dirs, files in os.walk(directory):\n",
    "        for file in files:\n",
    "            if file.endswith('.wav'):\n",
    "                filepath = os.path.join(root, file)\n",
    "                filepaths.append(filepath)\n",
    "                try:\n",
    "                    # Read the audio file using soundfile\n",
    "                    data, freq = sf.read(filepath)\n",
    "                    audios.append(data)\n",
    "                    freqs.append(freq)\n",
    "                except Exception as e:\n",
    "                    print(f\"Encountered an error with file: {filepath}. Error: {e}\")\n",
    "                    problematic_files.append(filepath)\n",
    "    \n",
    "    return audios, freqs, filepaths, problematic_files\n",
    "\n",
    "# Example usage\n",
    "audios, freqs, filepaths, problematic_files = read_audios(r'German_wav')\n"
   ]
  },
  {
   "cell_type": "markdown",
   "id": "98b86862",
   "metadata": {},
   "source": [
    "# Defining the function that extracts the mfcc features then removes the frames of silence finally it saves the mffc features into a .txt file according to gender "
   ]
  },
  {
   "cell_type": "code",
   "execution_count": 3,
   "id": "bb308ced",
   "metadata": {},
   "outputs": [],
   "source": [
    "def extractMfccs_RemoveSilence_saveMfccs(audios,freqs,filepaths, directory):\n",
    "    mfccs = []\n",
    " \n",
    "    for audio, freq, filepath in zip(audios, freqs,filepaths):\n",
    "        # extract the MFCC features\n",
    "        mfcc_features = mfcc(audio, freq, winlen=0.025, winstep=0.01, numcep=13, nfilt=26, nfft= 2048, lowfreq=0,\n",
    "                         highfreq=None, preemph=0.97, ceplifter=22, appendEnergy=False)\n",
    "        \n",
    "        # calculate the energy\n",
    "        energy = np.sum(mfcc_features**2, axis=1)\n",
    "        # calculate the threshold for silence\n",
    "        threshold = np.mean(energy) * 0.4\n",
    "        #removing silence frames from mfccs\n",
    "        voiced_indices = np.where(energy > threshold)[0]\n",
    "        mfccs_voiced = mfcc_features[voiced_indices,:]\n",
    "        mfccs.append(mfccs_voiced)\n",
    "        \n",
    "        # print the shape of the MFCCs before and after removing silence\n",
    "        print(f\"MFCCs before removing silence: {mfcc_features.shape}\")\n",
    "        print(f\"MFCCs after removing silence: {mfccs_voiced.shape}\")\n",
    "        \n",
    "       #saving mffcs \n",
    "       # extract the gender information from the file name\n",
    "        gender = None\n",
    "        if 'hommes' in filepath:\n",
    "            gender = 'Hommes'\n",
    "        elif 'femmes' in filepath:\n",
    "            gender = 'Femmes'\n",
    "\n",
    "        # save the MFCCs to the appropriate directory based on gender\n",
    "        if gender is not None:\n",
    "            gender_dir = os.path.join(directory, gender)\n",
    "            if not os.path.exists(gender_dir):\n",
    "                os.makedirs(gender_dir)\n",
    "            mfcc_file = os.path.join(gender_dir,  os.path.splitext(os.path.basename(filepath))[0] + \".mfcc\")\n",
    "            np.savetxt(mfcc_file, mfccs_voiced, delimiter=',')\n",
    "            \n",
    "      \n",
    "    \n",
    "    return  mfccs"
   ]
  },
  {
   "cell_type": "markdown",
   "id": "5e389de8",
   "metadata": {},
   "source": [
    "# Defining the function that splits the extraced mfccs into training and testing sets : 2/3 from male directory for training and 2/3 from female "
   ]
  },
  {
   "cell_type": "code",
   "execution_count": 4,
   "id": "bf8259ff",
   "metadata": {},
   "outputs": [],
   "source": [
    "def train_test_split(mfcc_dir):\n",
    "    # create separate lists for male and female file paths\n",
    "    male_files = []\n",
    "    female_files = []\n",
    "    for root, dirs, files in os.walk(mfcc_dir):\n",
    "        for file in files:\n",
    "            if file.endswith('.mfcc'):\n",
    "                if 'Hommes' in root:\n",
    "                    male_files.append(os.path.join(root, file))\n",
    "                elif 'Femmes' in root:\n",
    "                    female_files.append(os.path.join(root, file))\n",
    "\n",
    "    # shuffle the male and female lists independently\n",
    "    random.shuffle(male_files)\n",
    "    random.shuffle(female_files)\n",
    "\n",
    "    # split the male and female lists into train and test based on the desired ratio\n",
    "    male_train = male_files[:int(2/3*len(male_files))]\n",
    "    male_test = male_files[int(2/3*len(male_files)):]\n",
    "\n",
    "    female_train = female_files[:int(2/3*len(female_files))]\n",
    "    female_test = female_files[int(2/3*len(female_files)):]\n",
    "\n",
    "    \n",
    "    \n",
    "    # merge the train and test lists for both male and female\n",
    "    train_files = male_train + female_train\n",
    "    test_files = male_test + female_test\n",
    "\n",
    "    # load the MFCC features from the saved files for the train and test sets\n",
    "    train_mfccs = []\n",
    "    test_mfccs = []\n",
    "\n",
    "    for file in train_files:\n",
    "        train_mfccs.append(np.loadtxt(file, delimiter=','))\n",
    "\n",
    "    for file in test_files:\n",
    "        test_mfccs.append(np.loadtxt(file, delimiter=','))\n",
    "\n",
    "    # print the shapes of the train and test MFCC feature arrays\n",
    "    print(f\"Train male MFCCs shape: {np.array(male_train).shape}\")\n",
    "    print(f\"Test male MFCCs shape: {np.array( male_test).shape}\")\n",
    "    print(f\"Train female MFCCs shape: {np.array(female_train).shape}\")\n",
    "    print(f\"Test female MFCCs shape: {np.array( female_test).shape}\")\n",
    "    print(f\"Train MFCCs shape: {np.array(train_mfccs).shape}\")\n",
    "    print(f\"Test MFCCs shape: {np.array(test_mfccs).shape}\")\n",
    "    \n",
    "    return train_mfccs, test_mfccs\n"
   ]
  },
  {
   "cell_type": "markdown",
   "id": "27d92499",
   "metadata": {},
   "source": [
    "# Defining the functions that train the different GMM models and than save them as a pkl file"
   ]
  },
  {
   "cell_type": "code",
   "execution_count": 5,
   "id": "b8bd0e12",
   "metadata": {},
   "outputs": [],
   "source": [
    "def gmm16(train_mfccs):\n",
    "    # Initialize the GMM model with 16 classes\n",
    "    gmm = GaussianMixture(n_components=16, covariance_type='diag', random_state=0)\n",
    "\n",
    "    # Fit the GMM model to the training data\n",
    "    gmm.fit(train_mfccs)\n",
    "    \n",
    "    # Save the trained GMM model to a file\n",
    "    joblib.dump(gmm, r'gmm_model16_german.pkl')\n",
    "\n",
    "    return gmm\n"
   ]
  },
  {
   "cell_type": "code",
   "execution_count": 6,
   "id": "dacbf32b",
   "metadata": {},
   "outputs": [],
   "source": [
    "def gmm32(train_mfccs):\n",
    "    # Initialize the GMM model with 32 classes\n",
    "    gmm = GaussianMixture(n_components=32, covariance_type='diag', random_state=0)\n",
    "\n",
    "    # Fit the GMM model to the training data\n",
    "    gmm.fit(train_mfccs)\n",
    "    \n",
    "    # Save the trained GMM model to a file\n",
    "    joblib.dump(gmm, r'gmm_model32_german.pkl')\n",
    "\n",
    "    return gmm"
   ]
  },
  {
   "cell_type": "code",
   "execution_count": 7,
   "id": "28b6eb22",
   "metadata": {},
   "outputs": [],
   "source": [
    "def gmm64(train_mfccs):\n",
    "    # Initialize the GMM model with 64 classes\n",
    "    gmm = GaussianMixture(n_components=64, covariance_type='diag', random_state=0)\n",
    "\n",
    "    # Fit the GMM model to the training data\n",
    "    gmm.fit(train_mfccs)\n",
    "    \n",
    "    # Save the trained GMM model to a file\n",
    "    joblib.dump(gmm, r'gmm_model64_german.pkl')\n",
    "\n",
    "    return gmm"
   ]
  },
  {
   "cell_type": "code",
   "execution_count": 8,
   "id": "a0bc521f",
   "metadata": {},
   "outputs": [],
   "source": [
    "def gmm128(train_mfccs):\n",
    "    # Initialize the GMM model with 128 classes\n",
    "    gmm = GaussianMixture(n_components=128, covariance_type='diag', random_state=0)\n",
    "\n",
    "    # Fit the GMM model to the training data\n",
    "    gmm.fit(train_mfccs)\n",
    "    \n",
    "    # Save the trained GMM model to a file\n",
    "    joblib.dump(gmm, r'gmm_model128_german.pkl')\n",
    "\n",
    "    return gmm"
   ]
  },
  {
   "cell_type": "code",
   "execution_count": 9,
   "id": "612098fc",
   "metadata": {},
   "outputs": [],
   "source": [
    "def gmm256(train_mfccs):\n",
    "    # Initialize the GMM model with 254 classes\n",
    "    gmm = GaussianMixture(n_components=256, covariance_type='diag', random_state=0)\n",
    "\n",
    "    # Fit the GMM model to the training data\n",
    "    gmm.fit(train_mfccs)\n",
    "    \n",
    "    # Save the trained GMM model to a file\n",
    "    joblib.dump(gmm, r'gmm_model256_german.pkl')\n",
    "\n",
    "    return gmm"
   ]
  },
  {
   "cell_type": "markdown",
   "id": "9e3054ab",
   "metadata": {},
   "source": [
    "# Getting the audios frequencies and filepaths from their directory using the function defined above"
   ]
  },
  {
   "cell_type": "code",
   "execution_count": 10,
   "id": "691321ce",
   "metadata": {},
   "outputs": [],
   "source": [
    "audios, freqs, filepaths, problematic_files = read_audios(r'German_wav')\n"
   ]
  },
  {
   "cell_type": "markdown",
   "id": "a10c8287",
   "metadata": {},
   "source": [
    "# Extracting the mfcc features - Removing silence and saving the mfccs"
   ]
  },
  {
   "cell_type": "code",
   "execution_count": 11,
   "id": "1cb16fef",
   "metadata": {
    "scrolled": true
   },
   "outputs": [
    {
     "name": "stdout",
     "output_type": "stream",
     "text": [
      "MFCCs before removing silence: (13265, 13)\n",
      "MFCCs after removing silence: (13264, 13)\n",
      "MFCCs before removing silence: (15872, 13)\n",
      "MFCCs after removing silence: (15867, 13)\n",
      "MFCCs before removing silence: (13618, 13)\n",
      "MFCCs after removing silence: (13615, 13)\n",
      "MFCCs before removing silence: (13649, 13)\n",
      "MFCCs after removing silence: (13646, 13)\n",
      "MFCCs before removing silence: (11981, 13)\n",
      "MFCCs after removing silence: (11968, 13)\n",
      "MFCCs before removing silence: (2752, 13)\n",
      "MFCCs after removing silence: (2745, 13)\n",
      "MFCCs before removing silence: (8827, 13)\n",
      "MFCCs after removing silence: (8821, 13)\n",
      "MFCCs before removing silence: (1177, 13)\n",
      "MFCCs after removing silence: (1177, 13)\n",
      "MFCCs before removing silence: (3192, 13)\n",
      "MFCCs after removing silence: (3186, 13)\n",
      "MFCCs before removing silence: (4095, 13)\n",
      "MFCCs after removing silence: (4083, 13)\n",
      "MFCCs before removing silence: (1551, 13)\n",
      "MFCCs after removing silence: (1551, 13)\n",
      "MFCCs before removing silence: (14976, 13)\n",
      "MFCCs after removing silence: (14972, 13)\n",
      "MFCCs before removing silence: (14810, 13)\n",
      "MFCCs after removing silence: (14810, 13)\n",
      "MFCCs before removing silence: (16200, 13)\n",
      "MFCCs after removing silence: (16200, 13)\n",
      "MFCCs before removing silence: (12500, 13)\n",
      "MFCCs after removing silence: (12493, 13)\n",
      "MFCCs before removing silence: (6924, 13)\n",
      "MFCCs after removing silence: (6924, 13)\n",
      "MFCCs before removing silence: (856, 13)\n",
      "MFCCs after removing silence: (849, 13)\n",
      "MFCCs before removing silence: (791, 13)\n",
      "MFCCs after removing silence: (789, 13)\n",
      "MFCCs before removing silence: (1273, 13)\n",
      "MFCCs after removing silence: (1273, 13)\n",
      "MFCCs before removing silence: (859, 13)\n",
      "MFCCs after removing silence: (853, 13)\n",
      "MFCCs before removing silence: (1180, 13)\n",
      "MFCCs after removing silence: (1175, 13)\n",
      "MFCCs before removing silence: (813, 13)\n",
      "MFCCs after removing silence: (812, 13)\n",
      "MFCCs before removing silence: (1806, 13)\n",
      "MFCCs after removing silence: (1802, 13)\n",
      "MFCCs before removing silence: (1302, 13)\n",
      "MFCCs after removing silence: (1297, 13)\n",
      "MFCCs before removing silence: (1209, 13)\n",
      "MFCCs after removing silence: (1203, 13)\n",
      "MFCCs before removing silence: (1468, 13)\n",
      "MFCCs after removing silence: (1463, 13)\n",
      "MFCCs before removing silence: (1641, 13)\n",
      "MFCCs after removing silence: (1641, 13)\n",
      "MFCCs before removing silence: (715, 13)\n",
      "MFCCs after removing silence: (714, 13)\n",
      "MFCCs before removing silence: (1713, 13)\n",
      "MFCCs after removing silence: (1710, 13)\n",
      "MFCCs before removing silence: (1489, 13)\n",
      "MFCCs after removing silence: (1489, 13)\n",
      "MFCCs before removing silence: (1201, 13)\n",
      "MFCCs after removing silence: (1200, 13)\n",
      "MFCCs before removing silence: (586, 13)\n",
      "MFCCs after removing silence: (581, 13)\n",
      "MFCCs before removing silence: (1720, 13)\n",
      "MFCCs after removing silence: (1718, 13)\n",
      "MFCCs before removing silence: (1144, 13)\n",
      "MFCCs after removing silence: (1143, 13)\n",
      "MFCCs before removing silence: (1525, 13)\n",
      "MFCCs after removing silence: (1522, 13)\n",
      "MFCCs before removing silence: (1763, 13)\n",
      "MFCCs after removing silence: (1755, 13)\n",
      "MFCCs before removing silence: (1633, 13)\n",
      "MFCCs after removing silence: (1630, 13)\n",
      "MFCCs before removing silence: (1129, 13)\n",
      "MFCCs after removing silence: (1128, 13)\n",
      "MFCCs before removing silence: (492, 13)\n",
      "MFCCs after removing silence: (490, 13)\n",
      "MFCCs before removing silence: (748, 13)\n",
      "MFCCs after removing silence: (747, 13)\n",
      "MFCCs before removing silence: (993, 13)\n",
      "MFCCs after removing silence: (992, 13)\n",
      "MFCCs before removing silence: (1590, 13)\n",
      "MFCCs after removing silence: (1589, 13)\n",
      "MFCCs before removing silence: (798, 13)\n",
      "MFCCs after removing silence: (797, 13)\n",
      "MFCCs before removing silence: (715, 13)\n",
      "MFCCs after removing silence: (713, 13)\n",
      "MFCCs before removing silence: (1727, 13)\n",
      "MFCCs after removing silence: (1723, 13)\n",
      "MFCCs before removing silence: (1705, 13)\n",
      "MFCCs after removing silence: (1703, 13)\n",
      "MFCCs before removing silence: (1547, 13)\n",
      "MFCCs after removing silence: (1544, 13)\n",
      "MFCCs before removing silence: (1201, 13)\n",
      "MFCCs after removing silence: (1199, 13)\n",
      "MFCCs before removing silence: (1482, 13)\n",
      "MFCCs after removing silence: (1479, 13)\n",
      "MFCCs before removing silence: (391, 13)\n",
      "MFCCs after removing silence: (391, 13)\n",
      "MFCCs before removing silence: (787, 13)\n",
      "MFCCs after removing silence: (781, 13)\n",
      "MFCCs before removing silence: (867, 13)\n",
      "MFCCs after removing silence: (865, 13)\n",
      "MFCCs before removing silence: (885, 13)\n",
      "MFCCs after removing silence: (879, 13)\n",
      "MFCCs before removing silence: (283, 13)\n",
      "MFCCs after removing silence: (282, 13)\n",
      "MFCCs before removing silence: (654, 13)\n",
      "MFCCs after removing silence: (648, 13)\n",
      "MFCCs before removing silence: (1857, 13)\n",
      "MFCCs after removing silence: (1855, 13)\n",
      "MFCCs before removing silence: (1389, 13)\n",
      "MFCCs after removing silence: (1384, 13)\n",
      "MFCCs before removing silence: (1569, 13)\n",
      "MFCCs after removing silence: (1562, 13)\n",
      "MFCCs before removing silence: (2022, 13)\n",
      "MFCCs after removing silence: (2019, 13)\n",
      "MFCCs before removing silence: (978, 13)\n",
      "MFCCs after removing silence: (977, 13)\n",
      "MFCCs before removing silence: (633, 13)\n",
      "MFCCs after removing silence: (632, 13)\n",
      "MFCCs before removing silence: (985, 13)\n",
      "MFCCs after removing silence: (985, 13)\n",
      "MFCCs before removing silence: (1144, 13)\n",
      "MFCCs after removing silence: (1142, 13)\n",
      "MFCCs before removing silence: (1317, 13)\n",
      "MFCCs after removing silence: (1316, 13)\n",
      "MFCCs before removing silence: (834, 13)\n",
      "MFCCs after removing silence: (834, 13)\n",
      "MFCCs before removing silence: (1763, 13)\n",
      "MFCCs after removing silence: (1762, 13)\n",
      "MFCCs before removing silence: (2001, 13)\n",
      "MFCCs after removing silence: (1998, 13)\n",
      "MFCCs before removing silence: (1043, 13)\n",
      "MFCCs after removing silence: (1042, 13)\n",
      "MFCCs before removing silence: (1137, 13)\n",
      "MFCCs after removing silence: (1136, 13)\n",
      "MFCCs before removing silence: (1914, 13)\n",
      "MFCCs after removing silence: (1912, 13)\n",
      "MFCCs before removing silence: (1576, 13)\n",
      "MFCCs after removing silence: (1572, 13)\n",
      "MFCCs before removing silence: (795, 13)\n",
      "MFCCs after removing silence: (791, 13)\n",
      "MFCCs before removing silence: (1662, 13)\n",
      "MFCCs after removing silence: (1657, 13)\n",
      "MFCCs before removing silence: (1828, 13)\n",
      "MFCCs after removing silence: (1822, 13)\n",
      "MFCCs before removing silence: (1777, 13)\n",
      "MFCCs after removing silence: (1775, 13)\n",
      "MFCCs before removing silence: (1720, 13)\n",
      "MFCCs after removing silence: (1718, 13)\n",
      "MFCCs before removing silence: (1065, 13)\n",
      "MFCCs after removing silence: (1062, 13)\n",
      "MFCCs before removing silence: (1727, 13)\n",
      "MFCCs after removing silence: (1725, 13)\n",
      "MFCCs before removing silence: (1057, 13)\n",
      "MFCCs after removing silence: (1057, 13)\n",
      "MFCCs before removing silence: (1050, 13)\n",
      "MFCCs after removing silence: (1048, 13)\n",
      "MFCCs before removing silence: (6537, 13)\n",
      "MFCCs after removing silence: (6536, 13)\n",
      "MFCCs before removing silence: (1057, 13)\n",
      "MFCCs after removing silence: (1057, 13)\n",
      "MFCCs before removing silence: (1453, 13)\n",
      "MFCCs after removing silence: (1451, 13)\n",
      "MFCCs before removing silence: (906, 13)\n",
      "MFCCs after removing silence: (903, 13)\n",
      "MFCCs before removing silence: (1374, 13)\n",
      "MFCCs after removing silence: (1370, 13)\n",
      "MFCCs before removing silence: (611, 13)\n",
      "MFCCs after removing silence: (609, 13)\n",
      "MFCCs before removing silence: (1345, 13)\n",
      "MFCCs after removing silence: (1336, 13)\n",
      "MFCCs before removing silence: (935, 13)\n",
      "MFCCs after removing silence: (931, 13)\n",
      "MFCCs before removing silence: (1065, 13)\n",
      "MFCCs after removing silence: (1064, 13)\n",
      "MFCCs before removing silence: (1072, 13)\n",
      "MFCCs after removing silence: (1068, 13)\n",
      "MFCCs before removing silence: (841, 13)\n",
      "MFCCs after removing silence: (838, 13)\n",
      "MFCCs before removing silence: (1137, 13)\n",
      "MFCCs after removing silence: (1133, 13)\n",
      "MFCCs before removing silence: (726, 13)\n",
      "MFCCs after removing silence: (723, 13)\n",
      "MFCCs before removing silence: (978, 13)\n",
      "MFCCs after removing silence: (972, 13)\n",
      "MFCCs before removing silence: (949, 13)\n",
      "MFCCs after removing silence: (946, 13)\n",
      "MFCCs before removing silence: (1209, 13)\n",
      "MFCCs after removing silence: (1198, 13)\n",
      "MFCCs before removing silence: (1065, 13)\n",
      "MFCCs after removing silence: (1065, 13)\n",
      "MFCCs before removing silence: (921, 13)\n",
      "MFCCs after removing silence: (919, 13)\n",
      "MFCCs before removing silence: (1158, 13)\n",
      "MFCCs after removing silence: (1154, 13)\n",
      "MFCCs before removing silence: (957, 13)\n",
      "MFCCs after removing silence: (957, 13)\n",
      "MFCCs before removing silence: (892, 13)\n",
      "MFCCs after removing silence: (890, 13)\n"
     ]
    },
    {
     "name": "stdout",
     "output_type": "stream",
     "text": [
      "MFCCs before removing silence: (625, 13)\n",
      "MFCCs after removing silence: (621, 13)\n",
      "MFCCs before removing silence: (784, 13)\n",
      "MFCCs after removing silence: (781, 13)\n",
      "MFCCs before removing silence: (1036, 13)\n",
      "MFCCs after removing silence: (1031, 13)\n",
      "MFCCs before removing silence: (1216, 13)\n",
      "MFCCs after removing silence: (1213, 13)\n",
      "MFCCs before removing silence: (1230, 13)\n",
      "MFCCs after removing silence: (1224, 13)\n",
      "MFCCs before removing silence: (1007, 13)\n",
      "MFCCs after removing silence: (1003, 13)\n",
      "MFCCs before removing silence: (791, 13)\n",
      "MFCCs after removing silence: (790, 13)\n",
      "MFCCs before removing silence: (1108, 13)\n",
      "MFCCs after removing silence: (1105, 13)\n",
      "MFCCs before removing silence: (1324, 13)\n",
      "MFCCs after removing silence: (1321, 13)\n",
      "MFCCs before removing silence: (885, 13)\n",
      "MFCCs after removing silence: (880, 13)\n",
      "MFCCs before removing silence: (877, 13)\n",
      "MFCCs after removing silence: (874, 13)\n",
      "MFCCs before removing silence: (697, 13)\n",
      "MFCCs after removing silence: (694, 13)\n",
      "MFCCs before removing silence: (683, 13)\n",
      "MFCCs after removing silence: (683, 13)\n",
      "MFCCs before removing silence: (813, 13)\n",
      "MFCCs after removing silence: (811, 13)\n",
      "MFCCs before removing silence: (1252, 13)\n",
      "MFCCs after removing silence: (1250, 13)\n",
      "MFCCs before removing silence: (453, 13)\n",
      "MFCCs after removing silence: (451, 13)\n",
      "MFCCs before removing silence: (1273, 13)\n",
      "MFCCs after removing silence: (1273, 13)\n",
      "MFCCs before removing silence: (669, 13)\n",
      "MFCCs after removing silence: (663, 13)\n",
      "MFCCs before removing silence: (985, 13)\n",
      "MFCCs after removing silence: (975, 13)\n",
      "MFCCs before removing silence: (1014, 13)\n",
      "MFCCs after removing silence: (1010, 13)\n",
      "MFCCs before removing silence: (863, 13)\n",
      "MFCCs after removing silence: (856, 13)\n",
      "MFCCs before removing silence: (669, 13)\n",
      "MFCCs after removing silence: (667, 13)\n",
      "MFCCs before removing silence: (1309, 13)\n",
      "MFCCs after removing silence: (1307, 13)\n",
      "MFCCs before removing silence: (1036, 13)\n",
      "MFCCs after removing silence: (1036, 13)\n",
      "MFCCs before removing silence: (1072, 13)\n",
      "MFCCs after removing silence: (1068, 13)\n",
      "MFCCs before removing silence: (935, 13)\n",
      "MFCCs after removing silence: (934, 13)\n",
      "MFCCs before removing silence: (676, 13)\n",
      "MFCCs after removing silence: (674, 13)\n",
      "MFCCs before removing silence: (769, 13)\n",
      "MFCCs after removing silence: (767, 13)\n",
      "MFCCs before removing silence: (604, 13)\n",
      "MFCCs after removing silence: (603, 13)\n",
      "MFCCs before removing silence: (1338, 13)\n",
      "MFCCs after removing silence: (1336, 13)\n",
      "MFCCs before removing silence: (553, 13)\n",
      "MFCCs after removing silence: (550, 13)\n",
      "MFCCs before removing silence: (1173, 13)\n",
      "MFCCs after removing silence: (1164, 13)\n",
      "MFCCs before removing silence: (1266, 13)\n",
      "MFCCs after removing silence: (1261, 13)\n",
      "MFCCs before removing silence: (1065, 13)\n",
      "MFCCs after removing silence: (1063, 13)\n",
      "MFCCs before removing silence: (906, 13)\n",
      "MFCCs after removing silence: (900, 13)\n",
      "MFCCs before removing silence: (899, 13)\n",
      "MFCCs after removing silence: (896, 13)\n",
      "MFCCs before removing silence: (1036, 13)\n",
      "MFCCs after removing silence: (1026, 13)\n",
      "MFCCs before removing silence: (4355, 13)\n",
      "MFCCs after removing silence: (4355, 13)\n",
      "MFCCs before removing silence: (1353, 13)\n",
      "MFCCs after removing silence: (1349, 13)\n",
      "MFCCs before removing silence: (741, 13)\n",
      "MFCCs after removing silence: (740, 13)\n",
      "MFCCs before removing silence: (813, 13)\n",
      "MFCCs after removing silence: (813, 13)\n",
      "MFCCs before removing silence: (1295, 13)\n",
      "MFCCs after removing silence: (1282, 13)\n",
      "MFCCs before removing silence: (1194, 13)\n",
      "MFCCs after removing silence: (1192, 13)\n",
      "MFCCs before removing silence: (1353, 13)\n",
      "MFCCs after removing silence: (1341, 13)\n",
      "MFCCs before removing silence: (1029, 13)\n",
      "MFCCs after removing silence: (1018, 13)\n",
      "MFCCs before removing silence: (798, 13)\n",
      "MFCCs after removing silence: (793, 13)\n",
      "MFCCs before removing silence: (1086, 13)\n",
      "MFCCs after removing silence: (1084, 13)\n",
      "MFCCs before removing silence: (1007, 13)\n",
      "MFCCs after removing silence: (1005, 13)\n",
      "MFCCs before removing silence: (978, 13)\n",
      "MFCCs after removing silence: (974, 13)\n",
      "MFCCs before removing silence: (510, 13)\n",
      "MFCCs after removing silence: (508, 13)\n",
      "MFCCs before removing silence: (870, 13)\n",
      "MFCCs after removing silence: (867, 13)\n",
      "MFCCs before removing silence: (993, 13)\n",
      "MFCCs after removing silence: (991, 13)\n",
      "MFCCs before removing silence: (755, 13)\n",
      "MFCCs after removing silence: (753, 13)\n",
      "MFCCs before removing silence: (777, 13)\n",
      "MFCCs after removing silence: (770, 13)\n",
      "MFCCs before removing silence: (1446, 13)\n",
      "MFCCs after removing silence: (1443, 13)\n",
      "MFCCs before removing silence: (683, 13)\n",
      "MFCCs after removing silence: (676, 13)\n",
      "MFCCs before removing silence: (1425, 13)\n",
      "MFCCs after removing silence: (1412, 13)\n",
      "MFCCs before removing silence: (755, 13)\n",
      "MFCCs after removing silence: (754, 13)\n",
      "MFCCs before removing silence: (1086, 13)\n",
      "MFCCs after removing silence: (1085, 13)\n",
      "MFCCs before removing silence: (921, 13)\n",
      "MFCCs after removing silence: (914, 13)\n",
      "MFCCs before removing silence: (1655, 13)\n",
      "MFCCs after removing silence: (1646, 13)\n",
      "MFCCs before removing silence: (906, 13)\n",
      "MFCCs after removing silence: (905, 13)\n",
      "MFCCs before removing silence: (561, 13)\n",
      "MFCCs after removing silence: (561, 13)\n",
      "MFCCs before removing silence: (791, 13)\n",
      "MFCCs after removing silence: (791, 13)\n",
      "MFCCs before removing silence: (1101, 13)\n",
      "MFCCs after removing silence: (1093, 13)\n",
      "MFCCs before removing silence: (2001, 13)\n",
      "MFCCs after removing silence: (1975, 13)\n",
      "MFCCs before removing silence: (978, 13)\n",
      "MFCCs after removing silence: (976, 13)\n",
      "MFCCs before removing silence: (1338, 13)\n",
      "MFCCs after removing silence: (1324, 13)\n",
      "MFCCs before removing silence: (575, 13)\n",
      "MFCCs after removing silence: (571, 13)\n",
      "MFCCs before removing silence: (827, 13)\n",
      "MFCCs after removing silence: (823, 13)\n",
      "MFCCs before removing silence: (1050, 13)\n",
      "MFCCs after removing silence: (1048, 13)\n",
      "MFCCs before removing silence: (971, 13)\n",
      "MFCCs after removing silence: (969, 13)\n",
      "MFCCs before removing silence: (1151, 13)\n",
      "MFCCs after removing silence: (1143, 13)\n",
      "MFCCs before removing silence: (1230, 13)\n",
      "MFCCs after removing silence: (1220, 13)\n",
      "MFCCs before removing silence: (1158, 13)\n",
      "MFCCs after removing silence: (1156, 13)\n",
      "MFCCs before removing silence: (1122, 13)\n",
      "MFCCs after removing silence: (1119, 13)\n",
      "MFCCs before removing silence: (978, 13)\n",
      "MFCCs after removing silence: (968, 13)\n",
      "MFCCs before removing silence: (633, 13)\n",
      "MFCCs after removing silence: (632, 13)\n",
      "MFCCs before removing silence: (827, 13)\n",
      "MFCCs after removing silence: (824, 13)\n",
      "MFCCs before removing silence: (1461, 13)\n",
      "MFCCs after removing silence: (1457, 13)\n",
      "MFCCs before removing silence: (813, 13)\n",
      "MFCCs after removing silence: (811, 13)\n",
      "MFCCs before removing silence: (942, 13)\n",
      "MFCCs after removing silence: (941, 13)\n",
      "MFCCs before removing silence: (1187, 13)\n",
      "MFCCs after removing silence: (1182, 13)\n",
      "MFCCs before removing silence: (827, 13)\n",
      "MFCCs after removing silence: (824, 13)\n",
      "MFCCs before removing silence: (971, 13)\n",
      "MFCCs after removing silence: (967, 13)\n",
      "MFCCs before removing silence: (1158, 13)\n",
      "MFCCs after removing silence: (1151, 13)\n",
      "MFCCs before removing silence: (1245, 13)\n",
      "MFCCs after removing silence: (1242, 13)\n",
      "MFCCs before removing silence: (1079, 13)\n",
      "MFCCs after removing silence: (1075, 13)\n",
      "MFCCs before removing silence: (906, 13)\n",
      "MFCCs after removing silence: (906, 13)\n",
      "MFCCs before removing silence: (1425, 13)\n",
      "MFCCs after removing silence: (1419, 13)\n",
      "MFCCs before removing silence: (1079, 13)\n",
      "MFCCs after removing silence: (1079, 13)\n",
      "MFCCs before removing silence: (1158, 13)\n",
      "MFCCs after removing silence: (1156, 13)\n",
      "MFCCs before removing silence: (654, 13)\n",
      "MFCCs after removing silence: (654, 13)\n",
      "MFCCs before removing silence: (1209, 13)\n",
      "MFCCs after removing silence: (1200, 13)\n",
      "MFCCs before removing silence: (827, 13)\n",
      "MFCCs after removing silence: (825, 13)\n",
      "MFCCs before removing silence: (1583, 13)\n",
      "MFCCs after removing silence: (1582, 13)\n",
      "MFCCs before removing silence: (726, 13)\n",
      "MFCCs after removing silence: (724, 13)\n",
      "MFCCs before removing silence: (906, 13)\n",
      "MFCCs after removing silence: (902, 13)\n",
      "MFCCs before removing silence: (654, 13)\n",
      "MFCCs after removing silence: (653, 13)\n",
      "MFCCs before removing silence: (971, 13)\n",
      "MFCCs after removing silence: (967, 13)\n",
      "MFCCs before removing silence: (906, 13)\n",
      "MFCCs after removing silence: (900, 13)\n"
     ]
    },
    {
     "name": "stdout",
     "output_type": "stream",
     "text": [
      "MFCCs before removing silence: (978, 13)\n",
      "MFCCs after removing silence: (976, 13)\n",
      "MFCCs before removing silence: (849, 13)\n",
      "MFCCs after removing silence: (847, 13)\n",
      "MFCCs before removing silence: (1007, 13)\n",
      "MFCCs after removing silence: (1001, 13)\n",
      "MFCCs before removing silence: (1374, 13)\n",
      "MFCCs after removing silence: (1369, 13)\n",
      "MFCCs before removing silence: (798, 13)\n",
      "MFCCs after removing silence: (796, 13)\n",
      "MFCCs before removing silence: (1173, 13)\n",
      "MFCCs after removing silence: (1171, 13)\n",
      "MFCCs before removing silence: (906, 13)\n",
      "MFCCs after removing silence: (905, 13)\n",
      "MFCCs before removing silence: (1511, 13)\n",
      "MFCCs after removing silence: (1509, 13)\n",
      "MFCCs before removing silence: (978, 13)\n",
      "MFCCs after removing silence: (970, 13)\n",
      "MFCCs before removing silence: (906, 13)\n",
      "MFCCs after removing silence: (905, 13)\n",
      "MFCCs before removing silence: (1281, 13)\n",
      "MFCCs after removing silence: (1280, 13)\n",
      "MFCCs before removing silence: (1050, 13)\n",
      "MFCCs after removing silence: (1049, 13)\n",
      "MFCCs before removing silence: (1029, 13)\n",
      "MFCCs after removing silence: (1026, 13)\n",
      "MFCCs before removing silence: (1353, 13)\n",
      "MFCCs after removing silence: (1345, 13)\n",
      "MFCCs before removing silence: (618, 13)\n",
      "MFCCs after removing silence: (611, 13)\n",
      "MFCCs before removing silence: (957, 13)\n",
      "MFCCs after removing silence: (955, 13)\n",
      "MFCCs before removing silence: (1583, 13)\n",
      "MFCCs after removing silence: (1577, 13)\n",
      "MFCCs before removing silence: (6085, 13)\n",
      "MFCCs after removing silence: (6082, 13)\n",
      "MFCCs before removing silence: (6270, 13)\n",
      "MFCCs after removing silence: (6269, 13)\n",
      "MFCCs before removing silence: (6051, 13)\n",
      "MFCCs after removing silence: (6049, 13)\n",
      "MFCCs before removing silence: (6009, 13)\n",
      "MFCCs after removing silence: (6009, 13)\n"
     ]
    }
   ],
   "source": [
    "mfccs = extractMfccs_RemoveSilence_saveMfccs(audios, freqs, filepaths,r'mfcc_german')"
   ]
  },
  {
   "cell_type": "markdown",
   "id": "8699558f",
   "metadata": {},
   "source": [
    "## -----> We can see here that the size of the mfcc features has decreased after removing the frames ot silence"
   ]
  },
  {
   "cell_type": "markdown",
   "id": "f653af91",
   "metadata": {},
   "source": [
    "# Splitting into teest and train sets according to gender"
   ]
  },
  {
   "cell_type": "code",
   "execution_count": 12,
   "id": "88efb508",
   "metadata": {
    "scrolled": true
   },
   "outputs": [
    {
     "name": "stdout",
     "output_type": "stream",
     "text": [
      "Train male MFCCs shape: (138,)\n",
      "Test male MFCCs shape: (70,)\n",
      "Train female MFCCs shape: (10,)\n",
      "Test female MFCCs shape: (5,)\n",
      "Train MFCCs shape: (148,)\n",
      "Test MFCCs shape: (75,)\n"
     ]
    },
    {
     "name": "stderr",
     "output_type": "stream",
     "text": [
      "C:\\Users\\HP\\AppData\\Local\\Temp\\ipykernel_13368\\3397580047.py:45: VisibleDeprecationWarning: Creating an ndarray from ragged nested sequences (which is a list-or-tuple of lists-or-tuples-or ndarrays with different lengths or shapes) is deprecated. If you meant to do this, you must specify 'dtype=object' when creating the ndarray.\n",
      "  print(f\"Train MFCCs shape: {np.array(train_mfccs).shape}\")\n",
      "C:\\Users\\HP\\AppData\\Local\\Temp\\ipykernel_13368\\3397580047.py:46: VisibleDeprecationWarning: Creating an ndarray from ragged nested sequences (which is a list-or-tuple of lists-or-tuples-or ndarrays with different lengths or shapes) is deprecated. If you meant to do this, you must specify 'dtype=object' when creating the ndarray.\n",
      "  print(f\"Test MFCCs shape: {np.array(test_mfccs).shape}\")\n"
     ]
    }
   ],
   "source": [
    "train_mfccs, test_mfccs = train_test_split(r'mfcc_german')"
   ]
  },
  {
   "cell_type": "markdown",
   "id": "45dc7d97",
   "metadata": {},
   "source": [
    "# Stacking vertically the train and test MFCC features so that we can fit the gmm models"
   ]
  },
  {
   "cell_type": "code",
   "execution_count": 13,
   "id": "c1453682",
   "metadata": {},
   "outputs": [],
   "source": [
    "#stack vertically the train MFCC features \n",
    "mfcc_train = []\n",
    "for train_mfcc in train_mfccs:\n",
    "    mfcc_train.append(train_mfcc)\n",
    "mfcc_train = np.concatenate(mfcc_train, axis=0)\n",
    "\n",
    "#stack vertically the test MFCC features \n",
    "mfcc_test = []\n",
    "for test_mfcc in test_mfccs:\n",
    "    mfcc_test.append(test_mfcc)\n",
    "mfcc_test = np.concatenate(mfcc_test, axis=0)\n"
   ]
  },
  {
   "cell_type": "markdown",
   "id": "20a5ad86",
   "metadata": {},
   "source": [
    "# Saving the test set into a txt file "
   ]
  },
  {
   "cell_type": "code",
   "execution_count": 14,
   "id": "c8254a5c",
   "metadata": {},
   "outputs": [],
   "source": [
    "#Save the test mfccs in a file\n",
    "test_mfccs = np.vstack(test_mfccs)\n",
    "test_mfccs = np.array(test_mfccs, dtype=float)\n",
    "np.savetxt(r'germanTest', test_mfccs, delimiter=',')\n",
    "\n"
   ]
  },
  {
   "cell_type": "code",
   "execution_count": 15,
   "id": "7274389a",
   "metadata": {},
   "outputs": [
    {
     "data": {
      "text/plain": [
       "(272103, 13)"
      ]
     },
     "execution_count": 15,
     "metadata": {},
     "output_type": "execute_result"
    }
   ],
   "source": [
    "mfcc_train.shape"
   ]
  },
  {
   "cell_type": "markdown",
   "id": "fdc952bc",
   "metadata": {},
   "source": [
    "# Training the different Gmm Models "
   ]
  },
  {
   "cell_type": "code",
   "execution_count": 16,
   "id": "d7f1788a",
   "metadata": {},
   "outputs": [],
   "source": [
    "gmm16 = gmm16(mfcc_train)"
   ]
  },
  {
   "cell_type": "code",
   "execution_count": 17,
   "id": "caf46091",
   "metadata": {},
   "outputs": [],
   "source": [
    "gmm32 = gmm32(mfcc_train)"
   ]
  },
  {
   "cell_type": "code",
   "execution_count": 18,
   "id": "7f95e8c5",
   "metadata": {},
   "outputs": [],
   "source": [
    "gmm64 = gmm64(mfcc_train)"
   ]
  },
  {
   "cell_type": "code",
   "execution_count": 19,
   "id": "60fcf0ca",
   "metadata": {},
   "outputs": [],
   "source": [
    "gmm128= gmm128(mfcc_train)"
   ]
  },
  {
   "cell_type": "code",
   "execution_count": 20,
   "id": "70009491",
   "metadata": {
    "scrolled": true
   },
   "outputs": [],
   "source": [
    "gmm256= gmm256(mfcc_train)"
   ]
  },
  {
   "cell_type": "markdown",
   "id": "daeee76f",
   "metadata": {},
   "source": [
    "# Evaluate the performance of each GMM model on the test set using the score_samples() function that returns an array containing the log-likelihood of each frame of the mfcc features"
   ]
  },
  {
   "cell_type": "code",
   "execution_count": 21,
   "id": "20be0c83",
   "metadata": {
    "scrolled": true
   },
   "outputs": [
    {
     "name": "stdout",
     "output_type": "stream",
     "text": [
      "GMM16 score: [ 72.2914364   72.2914364  -54.87555354 ... -59.41894395 -58.15119954\n",
      " -56.79780782]\n",
      "GMM32 score: [ 72.2914364   72.2914364  -52.29551112 ... -56.56640721 -52.37466656\n",
      " -51.28764862]\n",
      "GMM64 score: [ 72.2914364   72.2914364  -48.27474488 ... -54.8706473  -49.8352651\n",
      " -49.36858118]\n",
      "GMM128 score: [ 72.2914364   72.2914364  -53.87521104 ... -54.91679338 -47.62094746\n",
      " -46.97990054]\n",
      "GMM256 score: [ 72.2914364   72.2914364  -45.49188467 ... -51.4573436  -41.56124324\n",
      " -41.79560501]\n"
     ]
    }
   ],
   "source": [
    "scores = []\n",
    "for model in [gmm16, gmm32, gmm64, gmm128, gmm256]:\n",
    "    score = model.score_samples(mfcc_test)\n",
    "    scores.append(score)\n",
    "\n",
    "# Print the scores\n",
    "print('GMM16 score:', scores[0])\n",
    "print('GMM32 score:', scores[1])\n",
    "print('GMM64 score:', scores[2])\n",
    "print('GMM128 score:', scores[3])\n",
    "print('GMM256 score:', scores[4])\n",
    "\n"
   ]
  },
  {
   "cell_type": "markdown",
   "id": "a09676ec",
   "metadata": {},
   "source": [
    "# Comparing the size of our mfcc_test set with the size of the scores array "
   ]
  },
  {
   "cell_type": "code",
   "execution_count": 22,
   "id": "b025b0c7",
   "metadata": {},
   "outputs": [
    {
     "data": {
      "text/plain": [
       "(135633, 13)"
      ]
     },
     "execution_count": 22,
     "metadata": {},
     "output_type": "execute_result"
    }
   ],
   "source": [
    "mfcc_test.shape"
   ]
  },
  {
   "cell_type": "markdown",
   "id": "51d092f6",
   "metadata": {},
   "source": [
    "# Indeed the size of the scores array is the same "
   ]
  },
  {
   "cell_type": "code",
   "execution_count": 23,
   "id": "811ecc16",
   "metadata": {},
   "outputs": [
    {
     "data": {
      "text/plain": [
       "(135633,)"
      ]
     },
     "execution_count": 23,
     "metadata": {},
     "output_type": "execute_result"
    }
   ],
   "source": [
    " scores[0].shape"
   ]
  },
  {
   "cell_type": "markdown",
   "id": "85f1168d",
   "metadata": {},
   "source": [
    "# In order to compare between the different GMM Models we need to calculate the score for the whole test set and we can do that by calculating the mean of the individual scores"
   ]
  },
  {
   "cell_type": "code",
   "execution_count": 24,
   "id": "e268debc",
   "metadata": {},
   "outputs": [
    {
     "name": "stdout",
     "output_type": "stream",
     "text": [
      "GMM16 score: -52.21698108758567\n",
      "GMM32 score: -51.63131698380798\n",
      "GMM64 score: -51.32815554953533\n",
      "GMM128 score: -51.045380939824994\n",
      "GMM256 score: -50.8501912396092\n"
     ]
    }
   ],
   "source": [
    "#calculationg the score of the hole test set\n",
    "print('GMM16 score:', scores[0].mean())\n",
    "print('GMM32 score:', scores[1].mean())\n",
    "print('GMM64 score:', scores[2].mean())\n",
    "print('GMM128 score:', scores[3].mean())\n",
    "print('GMM256 score:', scores[4].mean())\n"
   ]
  },
  {
   "cell_type": "markdown",
   "id": "81475f1a",
   "metadata": {},
   "source": [
    "### From the results above we can see that the best score (the closest one to 0) is given by the model using 16 gaussians "
   ]
  },
  {
   "cell_type": "code",
   "execution_count": null,
   "id": "e54295f7",
   "metadata": {},
   "outputs": [],
   "source": []
  }
 ],
 "metadata": {
  "kernelspec": {
   "display_name": "Python 3 (ipykernel)",
   "language": "python",
   "name": "python3"
  },
  "language_info": {
   "codemirror_mode": {
    "name": "ipython",
    "version": 3
   },
   "file_extension": ".py",
   "mimetype": "text/x-python",
   "name": "python",
   "nbconvert_exporter": "python",
   "pygments_lexer": "ipython3",
   "version": "3.9.18"
  }
 },
 "nbformat": 4,
 "nbformat_minor": 5
}
