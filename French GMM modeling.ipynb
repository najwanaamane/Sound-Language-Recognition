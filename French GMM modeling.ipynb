{
 "cells": [
  {
   "cell_type": "markdown",
   "id": "875d4cfc",
   "metadata": {},
   "source": [
    "# Importing necassary libraries"
   ]
  },
  {
   "cell_type": "code",
   "execution_count": 1,
   "id": "0967e058",
   "metadata": {},
   "outputs": [],
   "source": [
    "import numpy as np\n",
    "import scipy.io\n",
    "from python_speech_features import mfcc\n",
    "import matplotlib.pyplot as plt\n",
    "import IPython.display as ipd\n",
    "import os\n",
    "from sklearn.model_selection import train_test_split\n",
    "from sklearn.utils import shuffle\n",
    "import soundfile as sf\n",
    "import random\n",
    "from sklearn.mixture import GaussianMixture\n",
    "from sklearn.preprocessing import StandardScaler\n",
    "import joblib\n",
    "import math\n",
    "import statistics\n",
    "\n",
    "\n"
   ]
  },
  {
   "cell_type": "markdown",
   "id": "c4696cd8",
   "metadata": {},
   "source": [
    "# Defining the function that reads the audios from a given path using soundfile and returns 4 lists : audios, freqs, filepaths and problematic files for potential debugging"
   ]
  },
  {
   "cell_type": "code",
   "execution_count": 2,
   "id": "3b439b37",
   "metadata": {},
   "outputs": [],
   "source": [
    "\n",
    "def read_audios(directory):\n",
    "    audios = []\n",
    "    freqs = []\n",
    "    filepaths = []\n",
    "    problematic_files = []\n",
    "    \n",
    "    # Walking through the directory that contains the dataset and reading each file that has the .wav extension\n",
    "    for root, dirs, files in os.walk(directory):\n",
    "        for file in files:\n",
    "            if file.endswith('.wav'):\n",
    "                filepath = os.path.join(root, file)\n",
    "                filepaths.append(filepath)\n",
    "                try:\n",
    "                    # Read the audio file using soundfile\n",
    "                    data, freq = sf.read(filepath)\n",
    "                    audios.append(data)\n",
    "                    freqs.append(freq)\n",
    "                except Exception as e:\n",
    "                    print(f\"Encountered an error with file: {filepath}. Error: {e}\")\n",
    "                    problematic_files.append(filepath)\n",
    "    \n",
    "    return audios, freqs, filepaths, problematic_files\n",
    "\n",
    "# Example usage\n",
    "audios, freqs, filepaths, problematic_files = read_audios(r'quebecois_french_wav')\n"
   ]
  },
  {
   "cell_type": "markdown",
   "id": "98b86862",
   "metadata": {},
   "source": [
    "# Defining the function that extracts the mfcc features then removes the frames of silence finally it saves the mffc features into a .txt file according to gender "
   ]
  },
  {
   "cell_type": "code",
   "execution_count": 3,
   "id": "bb308ced",
   "metadata": {},
   "outputs": [],
   "source": [
    "def extractMfccs_RemoveSilence_saveMfccs(audios,freqs,filepaths, directory):\n",
    "    mfccs = []\n",
    " \n",
    "    for audio, freq, filepath in zip(audios, freqs,filepaths):\n",
    "        # extract the MFCC features\n",
    "        mfcc_features = mfcc(audio, freq, winlen=0.025, winstep=0.01, numcep=13, nfilt=26, nfft= 2048, lowfreq=0,\n",
    "                         highfreq=None, preemph=0.97, ceplifter=22, appendEnergy=False)\n",
    "        \n",
    "        # calculate the energy\n",
    "        energy = np.sum(mfcc_features**2, axis=1)\n",
    "        # calculate the threshold for silence\n",
    "        threshold = np.mean(energy) * 0.4\n",
    "        #removing silence frames from mfccs\n",
    "        voiced_indices = np.where(energy > threshold)[0]\n",
    "        mfccs_voiced = mfcc_features[voiced_indices,:]\n",
    "        mfccs.append(mfccs_voiced)\n",
    "        \n",
    "        # print the shape of the MFCCs before and after removing silence\n",
    "        print(f\"MFCCs before removing silence: {mfcc_features.shape}\")\n",
    "        print(f\"MFCCs after removing silence: {mfccs_voiced.shape}\")\n",
    "        \n",
    "       #saving mffcs \n",
    "       # extract the gender information from the file name\n",
    "        gender = None\n",
    "        if 'hommes' in filepath:\n",
    "            gender = 'Hommes'\n",
    "        elif 'femmes' in filepath:\n",
    "            gender = 'Femmes'\n",
    "\n",
    "        # save the MFCCs to the appropriate directory based on gender\n",
    "        if gender is not None:\n",
    "            gender_dir = os.path.join(directory, gender)\n",
    "            if not os.path.exists(gender_dir):\n",
    "                os.makedirs(gender_dir)\n",
    "            mfcc_file = os.path.join(gender_dir,  os.path.splitext(os.path.basename(filepath))[0] + \".mfcc\")\n",
    "            np.savetxt(mfcc_file, mfccs_voiced, delimiter=',')\n",
    "            \n",
    "      \n",
    "    \n",
    "    return  mfccs"
   ]
  },
  {
   "cell_type": "markdown",
   "id": "5e389de8",
   "metadata": {},
   "source": [
    "# Defining the function that splits the extraced mfccs into training and testing sets : 2/3 from male directory for training and 2/3 from female "
   ]
  },
  {
   "cell_type": "code",
   "execution_count": 4,
   "id": "bf8259ff",
   "metadata": {},
   "outputs": [],
   "source": [
    "def train_test_split(mfcc_dir):\n",
    "    # create separate lists for male and female file paths\n",
    "    male_files = []\n",
    "    female_files = []\n",
    "    for root, dirs, files in os.walk(mfcc_dir):\n",
    "        for file in files:\n",
    "            if file.endswith('.mfcc'):\n",
    "                if 'Hommes' in root:\n",
    "                    male_files.append(os.path.join(root, file))\n",
    "                elif 'Femmes' in root:\n",
    "                    female_files.append(os.path.join(root, file))\n",
    "\n",
    "    # shuffle the male and female lists independently\n",
    "    random.shuffle(male_files)\n",
    "    random.shuffle(female_files)\n",
    "\n",
    "    # split the male and female lists into train and test based on the desired ratio\n",
    "    male_train = male_files[:int(2/3*len(male_files))]\n",
    "    male_test = male_files[int(2/3*len(male_files)):]\n",
    "\n",
    "    female_train = female_files[:int(2/3*len(female_files))]\n",
    "    female_test = female_files[int(2/3*len(female_files)):]\n",
    "\n",
    "    \n",
    "    \n",
    "    # merge the train and test lists for both male and female\n",
    "    train_files = male_train + female_train\n",
    "    test_files = male_test + female_test\n",
    "\n",
    "    # load the MFCC features from the saved files for the train and test sets\n",
    "    train_mfccs = []\n",
    "    test_mfccs = []\n",
    "\n",
    "    for file in train_files:\n",
    "        train_mfccs.append(np.loadtxt(file, delimiter=','))\n",
    "\n",
    "    for file in test_files:\n",
    "        test_mfccs.append(np.loadtxt(file, delimiter=','))\n",
    "\n",
    "    # print the shapes of the train and test MFCC feature arrays\n",
    "    print(f\"Train male MFCCs shape: {np.array(male_train).shape}\")\n",
    "    print(f\"Test male MFCCs shape: {np.array( male_test).shape}\")\n",
    "    print(f\"Train female MFCCs shape: {np.array(female_train).shape}\")\n",
    "    print(f\"Test female MFCCs shape: {np.array( female_test).shape}\")\n",
    "    print(f\"Train MFCCs shape: {np.array(train_mfccs).shape}\")\n",
    "    print(f\"Test MFCCs shape: {np.array(test_mfccs).shape}\")\n",
    "    \n",
    "    return train_mfccs, test_mfccs\n"
   ]
  },
  {
   "cell_type": "markdown",
   "id": "27d92499",
   "metadata": {},
   "source": [
    "# Defining the functions that train the different GMM models and than save them as a pkl file"
   ]
  },
  {
   "cell_type": "code",
   "execution_count": 5,
   "id": "b8bd0e12",
   "metadata": {},
   "outputs": [],
   "source": [
    "def gmm16(train_mfccs):\n",
    "    # Initialize the GMM model with 16 classes\n",
    "    gmm = GaussianMixture(n_components=16, covariance_type='diag', random_state=0)\n",
    "\n",
    "    # Fit the GMM model to the training data\n",
    "    gmm.fit(train_mfccs)\n",
    "    \n",
    "    # Save the trained GMM model to a file\n",
    "    joblib.dump(gmm, r'gmm_model16_quebecois_french.pkl')\n",
    "\n",
    "    return gmm\n"
   ]
  },
  {
   "cell_type": "code",
   "execution_count": 6,
   "id": "dacbf32b",
   "metadata": {},
   "outputs": [],
   "source": [
    "def gmm32(train_mfccs):\n",
    "    # Initialize the GMM model with 32 classes\n",
    "    gmm = GaussianMixture(n_components=32, covariance_type='diag', random_state=0)\n",
    "\n",
    "    # Fit the GMM model to the training data\n",
    "    gmm.fit(train_mfccs)\n",
    "    \n",
    "    # Save the trained GMM model to a file\n",
    "    joblib.dump(gmm, r'gmm_model32_quebecois_french.pkl')\n",
    "\n",
    "    return gmm"
   ]
  },
  {
   "cell_type": "code",
   "execution_count": 7,
   "id": "28b6eb22",
   "metadata": {},
   "outputs": [],
   "source": [
    "def gmm64(train_mfccs):\n",
    "    # Initialize the GMM model with 64 classes\n",
    "    gmm = GaussianMixture(n_components=64, covariance_type='diag', random_state=0)\n",
    "\n",
    "    # Fit the GMM model to the training data\n",
    "    gmm.fit(train_mfccs)\n",
    "    \n",
    "    # Save the trained GMM model to a file\n",
    "    joblib.dump(gmm, r'gmm_model64_quebecois_french.pkl')\n",
    "\n",
    "    return gmm"
   ]
  },
  {
   "cell_type": "code",
   "execution_count": 8,
   "id": "a0bc521f",
   "metadata": {},
   "outputs": [],
   "source": [
    "def gmm128(train_mfccs):\n",
    "    # Initialize the GMM model with 128 classes\n",
    "    gmm = GaussianMixture(n_components=128, covariance_type='diag', random_state=0)\n",
    "\n",
    "    # Fit the GMM model to the training data\n",
    "    gmm.fit(train_mfccs)\n",
    "    \n",
    "    # Save the trained GMM model to a file\n",
    "    joblib.dump(gmm, r'gmm_model128_quebecois_french.pkl')\n",
    "\n",
    "    return gmm"
   ]
  },
  {
   "cell_type": "code",
   "execution_count": 9,
   "id": "612098fc",
   "metadata": {},
   "outputs": [],
   "source": [
    "def gmm256(train_mfccs):\n",
    "    # Initialize the GMM model with 254 classes\n",
    "    gmm = GaussianMixture(n_components=256, covariance_type='diag', random_state=0)\n",
    "\n",
    "    # Fit the GMM model to the training data\n",
    "    gmm.fit(train_mfccs)\n",
    "    \n",
    "    # Save the trained GMM model to a file\n",
    "    joblib.dump(gmm, r'gmm_model256_quebecois_french.pkl')\n",
    "\n",
    "    return gmm"
   ]
  },
  {
   "cell_type": "markdown",
   "id": "9e3054ab",
   "metadata": {},
   "source": [
    "# Getting the audios frequencies and filepaths from their directory using the function defined above"
   ]
  },
  {
   "cell_type": "code",
   "execution_count": 10,
   "id": "691321ce",
   "metadata": {},
   "outputs": [],
   "source": [
    "audios, freqs, filepaths, problematic_files = read_audios(r'quebecois_french_wav')\n"
   ]
  },
  {
   "cell_type": "markdown",
   "id": "a10c8287",
   "metadata": {},
   "source": [
    "# Extracting the mfcc features - Removing silence and saving the mfccs"
   ]
  },
  {
   "cell_type": "code",
   "execution_count": 11,
   "id": "1cb16fef",
   "metadata": {
    "scrolled": true
   },
   "outputs": [
    {
     "name": "stdout",
     "output_type": "stream",
     "text": [
      "MFCCs before removing silence: (32299, 13)\n",
      "MFCCs after removing silence: (32254, 13)\n",
      "MFCCs before removing silence: (43999, 13)\n",
      "MFCCs after removing silence: (43821, 13)\n",
      "MFCCs before removing silence: (43999, 13)\n",
      "MFCCs after removing silence: (43743, 13)\n",
      "MFCCs before removing silence: (43999, 13)\n",
      "MFCCs after removing silence: (43803, 13)\n",
      "MFCCs before removing silence: (43999, 13)\n",
      "MFCCs after removing silence: (43769, 13)\n",
      "MFCCs before removing silence: (43999, 13)\n",
      "MFCCs after removing silence: (43782, 13)\n",
      "MFCCs before removing silence: (43999, 13)\n",
      "MFCCs after removing silence: (43717, 13)\n",
      "MFCCs before removing silence: (43999, 13)\n",
      "MFCCs after removing silence: (43782, 13)\n",
      "MFCCs before removing silence: (43999, 13)\n",
      "MFCCs after removing silence: (43809, 13)\n",
      "MFCCs before removing silence: (43999, 13)\n",
      "MFCCs after removing silence: (43779, 13)\n",
      "MFCCs before removing silence: (43999, 13)\n",
      "MFCCs after removing silence: (43755, 13)\n",
      "MFCCs before removing silence: (43999, 13)\n",
      "MFCCs after removing silence: (43723, 13)\n",
      "MFCCs before removing silence: (43999, 13)\n",
      "MFCCs after removing silence: (43775, 13)\n",
      "MFCCs before removing silence: (42513, 13)\n",
      "MFCCs after removing silence: (42237, 13)\n",
      "MFCCs before removing silence: (60177, 13)\n",
      "MFCCs after removing silence: (60164, 13)\n",
      "MFCCs before removing silence: (35239, 13)\n",
      "MFCCs after removing silence: (35126, 13)\n",
      "MFCCs before removing silence: (43999, 13)\n",
      "MFCCs after removing silence: (43800, 13)\n",
      "MFCCs before removing silence: (43999, 13)\n",
      "MFCCs after removing silence: (43795, 13)\n",
      "MFCCs before removing silence: (43999, 13)\n",
      "MFCCs after removing silence: (43780, 13)\n",
      "MFCCs before removing silence: (43999, 13)\n",
      "MFCCs after removing silence: (43744, 13)\n",
      "MFCCs before removing silence: (43999, 13)\n",
      "MFCCs after removing silence: (43765, 13)\n",
      "MFCCs before removing silence: (43999, 13)\n",
      "MFCCs after removing silence: (43770, 13)\n",
      "MFCCs before removing silence: (43999, 13)\n",
      "MFCCs after removing silence: (43774, 13)\n",
      "MFCCs before removing silence: (43433, 13)\n",
      "MFCCs after removing silence: (43386, 13)\n",
      "MFCCs before removing silence: (72167, 13)\n",
      "MFCCs after removing silence: (72068, 13)\n",
      "MFCCs before removing silence: (25709, 13)\n",
      "MFCCs after removing silence: (25672, 13)\n",
      "MFCCs before removing silence: (40713, 13)\n",
      "MFCCs after removing silence: (40348, 13)\n",
      "MFCCs before removing silence: (43999, 13)\n",
      "MFCCs after removing silence: (43959, 13)\n",
      "MFCCs before removing silence: (43999, 13)\n",
      "MFCCs after removing silence: (43953, 13)\n",
      "MFCCs before removing silence: (21301, 13)\n",
      "MFCCs after removing silence: (21280, 13)\n",
      "MFCCs before removing silence: (43999, 13)\n",
      "MFCCs after removing silence: (43973, 13)\n",
      "MFCCs before removing silence: (43999, 13)\n",
      "MFCCs after removing silence: (43946, 13)\n",
      "MFCCs before removing silence: (43999, 13)\n",
      "MFCCs after removing silence: (43939, 13)\n",
      "MFCCs before removing silence: (43999, 13)\n",
      "MFCCs after removing silence: (43947, 13)\n",
      "MFCCs before removing silence: (43999, 13)\n",
      "MFCCs after removing silence: (43960, 13)\n",
      "MFCCs before removing silence: (43999, 13)\n",
      "MFCCs after removing silence: (43943, 13)\n",
      "MFCCs before removing silence: (43999, 13)\n",
      "MFCCs after removing silence: (43948, 13)\n",
      "MFCCs before removing silence: (43999, 13)\n",
      "MFCCs after removing silence: (43944, 13)\n"
     ]
    }
   ],
   "source": [
    "mfccs = extractMfccs_RemoveSilence_saveMfccs(audios, freqs, filepaths,r'mfcc_quebecois_french')"
   ]
  },
  {
   "cell_type": "markdown",
   "id": "8699558f",
   "metadata": {},
   "source": [
    "## -----> We can see here that the size of the mfcc features has decreased after removing the frames ot silence"
   ]
  },
  {
   "cell_type": "markdown",
   "id": "f653af91",
   "metadata": {},
   "source": [
    "# Splitting into test and train sets according to gender"
   ]
  },
  {
   "cell_type": "code",
   "execution_count": 12,
   "id": "88efb508",
   "metadata": {
    "scrolled": true
   },
   "outputs": [
    {
     "name": "stdout",
     "output_type": "stream",
     "text": [
      "Train male MFCCs shape: (10,)\n",
      "Test male MFCCs shape: (5,)\n",
      "Train female MFCCs shape: (15,)\n",
      "Test female MFCCs shape: (8,)\n",
      "Train MFCCs shape: (25,)\n",
      "Test MFCCs shape: (13,)\n"
     ]
    },
    {
     "name": "stderr",
     "output_type": "stream",
     "text": [
      "C:\\Users\\HP\\AppData\\Local\\Temp\\ipykernel_14860\\3397580047.py:45: VisibleDeprecationWarning: Creating an ndarray from ragged nested sequences (which is a list-or-tuple of lists-or-tuples-or ndarrays with different lengths or shapes) is deprecated. If you meant to do this, you must specify 'dtype=object' when creating the ndarray.\n",
      "  print(f\"Train MFCCs shape: {np.array(train_mfccs).shape}\")\n",
      "C:\\Users\\HP\\AppData\\Local\\Temp\\ipykernel_14860\\3397580047.py:46: VisibleDeprecationWarning: Creating an ndarray from ragged nested sequences (which is a list-or-tuple of lists-or-tuples-or ndarrays with different lengths or shapes) is deprecated. If you meant to do this, you must specify 'dtype=object' when creating the ndarray.\n",
      "  print(f\"Test MFCCs shape: {np.array(test_mfccs).shape}\")\n"
     ]
    }
   ],
   "source": [
    "train_mfccs, test_mfccs = train_test_split(r'mfcc_quebecois_french')"
   ]
  },
  {
   "cell_type": "markdown",
   "id": "45dc7d97",
   "metadata": {},
   "source": [
    "# Stacking vertically the train and test MFCC features so that we can fit the gmm models"
   ]
  },
  {
   "cell_type": "code",
   "execution_count": 13,
   "id": "c1453682",
   "metadata": {},
   "outputs": [],
   "source": [
    "#stack vertically the train MFCC features \n",
    "mfcc_train = []\n",
    "for train_mfcc in train_mfccs:\n",
    "    mfcc_train.append(train_mfcc)\n",
    "mfcc_train = np.concatenate(mfcc_train, axis=0)\n",
    "\n",
    "#stack vertically the test MFCC features \n",
    "mfcc_test = []\n",
    "for test_mfcc in test_mfccs:\n",
    "    mfcc_test.append(test_mfcc)\n",
    "mfcc_test = np.concatenate(mfcc_test, axis=0)\n"
   ]
  },
  {
   "cell_type": "markdown",
   "id": "20a5ad86",
   "metadata": {},
   "source": [
    "# Saving the test set into a txt file "
   ]
  },
  {
   "cell_type": "code",
   "execution_count": 14,
   "id": "c8254a5c",
   "metadata": {},
   "outputs": [],
   "source": [
    "#Save the test mfccs in a file\n",
    "test_mfccs = np.vstack(test_mfccs)\n",
    "test_mfccs = np.array(test_mfccs, dtype=float)\n",
    "np.savetxt(r'quebecoisfrenchTest', test_mfccs, delimiter=',')\n",
    "\n"
   ]
  },
  {
   "cell_type": "code",
   "execution_count": 15,
   "id": "7274389a",
   "metadata": {},
   "outputs": [
    {
     "data": {
      "text/plain": [
       "(1055748, 13)"
      ]
     },
     "execution_count": 15,
     "metadata": {},
     "output_type": "execute_result"
    }
   ],
   "source": [
    "mfcc_train.shape"
   ]
  },
  {
   "cell_type": "markdown",
   "id": "fdc952bc",
   "metadata": {},
   "source": [
    "# Training the different Gmm Models "
   ]
  },
  {
   "cell_type": "code",
   "execution_count": 16,
   "id": "d7f1788a",
   "metadata": {},
   "outputs": [],
   "source": [
    "gmm16 = gmm16(mfcc_train)"
   ]
  },
  {
   "cell_type": "code",
   "execution_count": 17,
   "id": "caf46091",
   "metadata": {},
   "outputs": [],
   "source": [
    "gmm32 = gmm32(mfcc_train)"
   ]
  },
  {
   "cell_type": "code",
   "execution_count": 18,
   "id": "7f95e8c5",
   "metadata": {},
   "outputs": [],
   "source": [
    "gmm64 = gmm64(mfcc_train)"
   ]
  },
  {
   "cell_type": "code",
   "execution_count": 19,
   "id": "60fcf0ca",
   "metadata": {},
   "outputs": [],
   "source": [
    "gmm128= gmm128(mfcc_train)"
   ]
  },
  {
   "cell_type": "code",
   "execution_count": 20,
   "id": "70009491",
   "metadata": {
    "scrolled": true
   },
   "outputs": [],
   "source": [
    "gmm256= gmm256(mfcc_train)"
   ]
  },
  {
   "cell_type": "markdown",
   "id": "daeee76f",
   "metadata": {},
   "source": [
    "# Evaluate the performance of each GMM model on the test set using the score_samples() function that returns an array containing the log-likelihood of each frame of the mfcc features"
   ]
  },
  {
   "cell_type": "code",
   "execution_count": 21,
   "id": "20be0c83",
   "metadata": {
    "scrolled": true
   },
   "outputs": [
    {
     "name": "stdout",
     "output_type": "stream",
     "text": [
      "GMM16 score: [-59.76608577 -55.39351238 -59.37601925 ... -51.59519255 -52.68255875\n",
      " -56.65157318]\n",
      "GMM32 score: [-60.92122234 -54.22507896 -58.18668941 ... -50.94407954 -52.03689443\n",
      " -55.78021279]\n",
      "GMM64 score: [-60.85604895 -57.38751192 -60.80080485 ... -49.94416414 -50.06977946\n",
      " -51.22575829]\n",
      "GMM128 score: [-62.47455598 -56.15187637 -59.00318032 ... -50.51437962 -50.34304265\n",
      " -51.05048094]\n",
      "GMM256 score: [-63.89677643 -57.71861336 -61.20043783 ... -50.24307542 -50.55059849\n",
      " -50.91331216]\n"
     ]
    }
   ],
   "source": [
    "scores = []\n",
    "for model in [gmm16, gmm32, gmm64, gmm128, gmm256]:\n",
    "    score = model.score_samples(mfcc_test)\n",
    "    scores.append(score)\n",
    "\n",
    "# Print the scores\n",
    "print('GMM16 score:', scores[0])\n",
    "print('GMM32 score:', scores[1])\n",
    "print('GMM64 score:', scores[2])\n",
    "print('GMM128 score:', scores[3])\n",
    "print('GMM256 score:', scores[4])\n",
    "\n"
   ]
  },
  {
   "cell_type": "markdown",
   "id": "a09676ec",
   "metadata": {},
   "source": [
    "# Comparing the size of our mfcc_test set with the size of the scores array "
   ]
  },
  {
   "cell_type": "code",
   "execution_count": 22,
   "id": "b025b0c7",
   "metadata": {},
   "outputs": [
    {
     "data": {
      "text/plain": [
       "(587985, 13)"
      ]
     },
     "execution_count": 22,
     "metadata": {},
     "output_type": "execute_result"
    }
   ],
   "source": [
    "mfcc_test.shape"
   ]
  },
  {
   "cell_type": "markdown",
   "id": "51d092f6",
   "metadata": {},
   "source": [
    "# Indeed the size of the scores array is the same "
   ]
  },
  {
   "cell_type": "code",
   "execution_count": 23,
   "id": "811ecc16",
   "metadata": {},
   "outputs": [
    {
     "data": {
      "text/plain": [
       "(587985,)"
      ]
     },
     "execution_count": 23,
     "metadata": {},
     "output_type": "execute_result"
    }
   ],
   "source": [
    " scores[0].shape"
   ]
  },
  {
   "cell_type": "markdown",
   "id": "85f1168d",
   "metadata": {},
   "source": [
    "# In order to compare between the different GMM Models we need to calculate the score for the hole test set and we can do that by calculating the mean of the individual scores"
   ]
  },
  {
   "cell_type": "code",
   "execution_count": 24,
   "id": "e268debc",
   "metadata": {},
   "outputs": [
    {
     "name": "stdout",
     "output_type": "stream",
     "text": [
      "GMM16 score: -49.69563640219606\n",
      "GMM32 score: -49.200859324829366\n",
      "GMM64 score: -48.726422808931076\n",
      "GMM128 score: -48.35772214816751\n",
      "GMM256 score: -48.013252032995666\n"
     ]
    }
   ],
   "source": [
    "#calculationg the score of the hole test set\n",
    "print('GMM16 score:', scores[0].mean())\n",
    "print('GMM32 score:', scores[1].mean())\n",
    "print('GMM64 score:', scores[2].mean())\n",
    "print('GMM128 score:', scores[3].mean())\n",
    "print('GMM256 score:', scores[4].mean())\n"
   ]
  },
  {
   "cell_type": "markdown",
   "id": "81475f1a",
   "metadata": {},
   "source": [
    "### From the results above we can see that the best score (the closest one to 0) is given by the model using  16 gaussians "
   ]
  },
  {
   "cell_type": "code",
   "execution_count": null,
   "id": "e54295f7",
   "metadata": {},
   "outputs": [],
   "source": []
  }
 ],
 "metadata": {
  "kernelspec": {
   "display_name": "Python 3 (ipykernel)",
   "language": "python",
   "name": "python3"
  },
  "language_info": {
   "codemirror_mode": {
    "name": "ipython",
    "version": 3
   },
   "file_extension": ".py",
   "mimetype": "text/x-python",
   "name": "python",
   "nbconvert_exporter": "python",
   "pygments_lexer": "ipython3",
   "version": "3.9.18"
  }
 },
 "nbformat": 4,
 "nbformat_minor": 5
}
